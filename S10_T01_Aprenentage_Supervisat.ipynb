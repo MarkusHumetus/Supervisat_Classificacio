{
 "cells": [
  {
   "cell_type": "markdown",
   "id": "dcd6be5a",
   "metadata": {},
   "source": [
    "## Descripció"
   ]
  },
  {
   "cell_type": "markdown",
   "id": "81fbe001",
   "metadata": {},
   "source": [
    "Anem a practicar i a familiaritzar-nos amb algoritmes de classificació."
   ]
  },
  {
   "cell_type": "markdown",
   "id": "317c79e2",
   "metadata": {},
   "source": [
    "## Nivell 1"
   ]
  },
  {
   "cell_type": "markdown",
   "id": "432690a4",
   "metadata": {},
   "source": [
    "**- Exercici 1:**\n",
    "Crea almenys tres models de classificació diferents per intentar predir el millor possible l’endarreriment dels vols (ArrDelay) de DelayedFlights.csv. Considera si el vol ha arribat tard o no (ArrDelay > 0).\n"
   ]
  },
  {
   "cell_type": "code",
   "execution_count": 27,
   "id": "0299ceea",
   "metadata": {},
   "outputs": [],
   "source": [
    "import matplotlib.pyplot as plt\n",
    "import seaborn as sns\n",
    "import numpy as np\n",
    "import pandas as pd\n",
    "from sklearn.linear_model import LogisticRegression\n",
    "from sklearn.discriminant_analysis import LinearDiscriminantAnalysis\n",
    "from sklearn.neighbors import KNeighborsClassifier\n",
    "from sklearn.naive_bayes import GaussianNB\n",
    "from sklearn.tree import DecisionTreeClassifier\n",
    "from sklearn.ensemble import GradientBoostingClassifier\n",
    "from sklearn.svm import SVC\n",
    "from sklearn.metrics import f1_score\n",
    "from sklearn.metrics import classification_report\n",
    "from sklearn.metrics import confusion_matrix\n",
    "from sklearn.metrics import accuracy_score\n",
    "from sklearn.model_selection import train_test_split\n",
    "from sklearn.ensemble import RandomForestClassifier, AdaBoostClassifier\n",
    "from sklearn.neural_network import MLPClassifier\n",
    "from sklearn.gaussian_process import GaussianProcessClassifier\n",
    "from sklearn.gaussian_process.kernels import RBF\n",
    "from sklearn.naive_bayes import GaussianNB\n",
    "from sklearn.discriminant_analysis import QuadraticDiscriminantAnalysis\n",
    "from imblearn.metrics import geometric_mean_score\n",
    "\n",
    "%matplotlib inline   "
   ]
  },
  {
   "cell_type": "markdown",
   "id": "a42c586e",
   "metadata": {},
   "source": [
    "Baixem la base de dades i la netegem de la mateixa manera que el exercici anterior:"
   ]
  },
  {
   "cell_type": "code",
   "execution_count": 7,
   "id": "71af1d6c",
   "metadata": {
    "ExecuteTime": {
     "end_time": "2022-04-06T06:48:11.725348Z",
     "start_time": "2022-04-06T06:47:57.169921Z"
    },
    "scrolled": false
   },
   "outputs": [],
   "source": [
    "flights2008_df=pd.read_csv('C:\\\\Users\\\\march\\\\000 Treball Ju`yter 000\\\\Sprints_IT Academy_Data Science\\\\Sprint_9\\\\DelayedFlights.csv', )"
   ]
  },
  {
   "cell_type": "code",
   "execution_count": 8,
   "id": "c6ee53e2",
   "metadata": {},
   "outputs": [],
   "source": [
    "flights2008_df.drop(['Year'],axis=1,inplace=True) #eliminem l'any perquè tots els vols són del mateix any!!\n",
    "flights2008_df['TailNum'].fillna(value='Unknown',inplace=True) #canviem vols sens número de cua per unknown"
   ]
  },
  {
   "cell_type": "code",
   "execution_count": 9,
   "id": "c1e6b775",
   "metadata": {},
   "outputs": [],
   "source": [
    "flights2008_df.drop(['Unnamed: 0'],axis=1,inplace=True)"
   ]
  },
  {
   "cell_type": "code",
   "execution_count": 10,
   "id": "89347382",
   "metadata": {},
   "outputs": [
    {
     "data": {
      "text/html": [
       "<div>\n",
       "<style scoped>\n",
       "    .dataframe tbody tr th:only-of-type {\n",
       "        vertical-align: middle;\n",
       "    }\n",
       "\n",
       "    .dataframe tbody tr th {\n",
       "        vertical-align: top;\n",
       "    }\n",
       "\n",
       "    .dataframe thead th {\n",
       "        text-align: right;\n",
       "    }\n",
       "</style>\n",
       "<table border=\"1\" class=\"dataframe\">\n",
       "  <thead>\n",
       "    <tr style=\"text-align: right;\">\n",
       "      <th></th>\n",
       "      <th>Month</th>\n",
       "      <th>DayofMonth</th>\n",
       "      <th>DayOfWeek</th>\n",
       "      <th>DepTime</th>\n",
       "      <th>CRSDepTime</th>\n",
       "      <th>ArrTime</th>\n",
       "      <th>CRSArrTime</th>\n",
       "      <th>UniqueCarrier</th>\n",
       "      <th>FlightNum</th>\n",
       "      <th>TailNum</th>\n",
       "      <th>...</th>\n",
       "      <th>TaxiIn</th>\n",
       "      <th>TaxiOut</th>\n",
       "      <th>Cancelled</th>\n",
       "      <th>CancellationCode</th>\n",
       "      <th>Diverted</th>\n",
       "      <th>CarrierDelay</th>\n",
       "      <th>WeatherDelay</th>\n",
       "      <th>NASDelay</th>\n",
       "      <th>SecurityDelay</th>\n",
       "      <th>LateAircraftDelay</th>\n",
       "    </tr>\n",
       "    <tr>\n",
       "      <th>ArrDelay</th>\n",
       "      <th></th>\n",
       "      <th></th>\n",
       "      <th></th>\n",
       "      <th></th>\n",
       "      <th></th>\n",
       "      <th></th>\n",
       "      <th></th>\n",
       "      <th></th>\n",
       "      <th></th>\n",
       "      <th></th>\n",
       "      <th></th>\n",
       "      <th></th>\n",
       "      <th></th>\n",
       "      <th></th>\n",
       "      <th></th>\n",
       "      <th></th>\n",
       "      <th></th>\n",
       "      <th></th>\n",
       "      <th></th>\n",
       "      <th></th>\n",
       "      <th></th>\n",
       "    </tr>\n",
       "  </thead>\n",
       "  <tbody>\n",
       "    <tr>\n",
       "      <th>0</th>\n",
       "      <td>204956</td>\n",
       "      <td>204956</td>\n",
       "      <td>204956</td>\n",
       "      <td>204956</td>\n",
       "      <td>204956</td>\n",
       "      <td>204956</td>\n",
       "      <td>204956</td>\n",
       "      <td>204956</td>\n",
       "      <td>204956</td>\n",
       "      <td>204956</td>\n",
       "      <td>...</td>\n",
       "      <td>204956</td>\n",
       "      <td>204956</td>\n",
       "      <td>204956</td>\n",
       "      <td>204956</td>\n",
       "      <td>204956</td>\n",
       "      <td>0</td>\n",
       "      <td>0</td>\n",
       "      <td>0</td>\n",
       "      <td>0</td>\n",
       "      <td>0</td>\n",
       "    </tr>\n",
       "    <tr>\n",
       "      <th>1</th>\n",
       "      <td>1731802</td>\n",
       "      <td>1731802</td>\n",
       "      <td>1731802</td>\n",
       "      <td>1731802</td>\n",
       "      <td>1731802</td>\n",
       "      <td>1724692</td>\n",
       "      <td>1731802</td>\n",
       "      <td>1731802</td>\n",
       "      <td>1731802</td>\n",
       "      <td>1731802</td>\n",
       "      <td>...</td>\n",
       "      <td>1724692</td>\n",
       "      <td>1731347</td>\n",
       "      <td>1731802</td>\n",
       "      <td>1731802</td>\n",
       "      <td>1731802</td>\n",
       "      <td>1247488</td>\n",
       "      <td>1247488</td>\n",
       "      <td>1247488</td>\n",
       "      <td>1247488</td>\n",
       "      <td>1247488</td>\n",
       "    </tr>\n",
       "  </tbody>\n",
       "</table>\n",
       "<p>2 rows × 27 columns</p>\n",
       "</div>"
      ],
      "text/plain": [
       "            Month  DayofMonth  DayOfWeek  DepTime  CRSDepTime  ArrTime  \\\n",
       "ArrDelay                                                                 \n",
       "0          204956      204956     204956   204956      204956   204956   \n",
       "1         1731802     1731802    1731802  1731802     1731802  1724692   \n",
       "\n",
       "          CRSArrTime  UniqueCarrier  FlightNum  TailNum  ...   TaxiIn  \\\n",
       "ArrDelay                                                 ...            \n",
       "0             204956         204956     204956   204956  ...   204956   \n",
       "1            1731802        1731802    1731802  1731802  ...  1724692   \n",
       "\n",
       "          TaxiOut  Cancelled  CancellationCode  Diverted  CarrierDelay  \\\n",
       "ArrDelay                                                                 \n",
       "0          204956     204956            204956    204956             0   \n",
       "1         1731347    1731802           1731802   1731802       1247488   \n",
       "\n",
       "          WeatherDelay  NASDelay  SecurityDelay  LateAircraftDelay  \n",
       "ArrDelay                                                            \n",
       "0                    0         0              0                  0  \n",
       "1              1247488   1247488        1247488            1247488  \n",
       "\n",
       "[2 rows x 27 columns]"
      ]
     },
     "execution_count": 10,
     "metadata": {},
     "output_type": "execute_result"
    }
   ],
   "source": [
    "flights2008_df.ArrDelay=flights2008_df.ArrDelay.map(lambda x: 0 if x<=0 else 1)\n",
    "flights2008_df.groupby('ArrDelay').count()"
   ]
  },
  {
   "cell_type": "code",
   "execution_count": 11,
   "id": "6bd96573",
   "metadata": {},
   "outputs": [
    {
     "data": {
      "text/plain": [
       "1    0.894176\n",
       "0    0.105824\n",
       "Name: ArrDelay, dtype: float64"
      ]
     },
     "execution_count": 11,
     "metadata": {},
     "output_type": "execute_result"
    }
   ],
   "source": [
    "flights2008_df.ArrDelay.value_counts(normalize=True)"
   ]
  },
  {
   "cell_type": "code",
   "execution_count": 12,
   "id": "7ac4b84f",
   "metadata": {},
   "outputs": [
    {
     "data": {
      "text/plain": [
       "Month                     0\n",
       "DayofMonth                0\n",
       "DayOfWeek                 0\n",
       "DepTime                   0\n",
       "CRSDepTime                0\n",
       "ArrTime                7110\n",
       "CRSArrTime                0\n",
       "UniqueCarrier             0\n",
       "FlightNum                 0\n",
       "TailNum                   0\n",
       "ActualElapsedTime      8387\n",
       "CRSElapsedTime          198\n",
       "AirTime                8387\n",
       "ArrDelay                  0\n",
       "DepDelay                  0\n",
       "Origin                    0\n",
       "Dest                      0\n",
       "Distance                  0\n",
       "TaxiIn                 7110\n",
       "TaxiOut                 455\n",
       "Cancelled                 0\n",
       "CancellationCode          0\n",
       "Diverted                  0\n",
       "CarrierDelay         689270\n",
       "WeatherDelay         689270\n",
       "NASDelay             689270\n",
       "SecurityDelay        689270\n",
       "LateAircraftDelay    689270\n",
       "dtype: int64"
      ]
     },
     "execution_count": 12,
     "metadata": {},
     "output_type": "execute_result"
    }
   ],
   "source": [
    "flights2008_df.isnull().sum()"
   ]
  },
  {
   "cell_type": "markdown",
   "id": "76149890",
   "metadata": {},
   "source": [
    "Per les que el retras és nul, posem a 0 els retrassos diferents on no constava cap valor:"
   ]
  },
  {
   "cell_type": "code",
   "execution_count": 13,
   "id": "d61cb9ac",
   "metadata": {
    "ExecuteTime": {
     "end_time": "2022-04-06T06:48:14.717335Z",
     "start_time": "2022-04-06T06:48:13.177457Z"
    }
   },
   "outputs": [
    {
     "data": {
      "text/plain": [
       "Month                     0\n",
       "DayofMonth                0\n",
       "DayOfWeek                 0\n",
       "DepTime                   0\n",
       "CRSDepTime                0\n",
       "ArrTime                7110\n",
       "CRSArrTime                0\n",
       "UniqueCarrier             0\n",
       "FlightNum                 0\n",
       "TailNum                   0\n",
       "ActualElapsedTime      8387\n",
       "CRSElapsedTime          198\n",
       "AirTime                8387\n",
       "ArrDelay                  0\n",
       "DepDelay                  0\n",
       "Origin                    0\n",
       "Dest                      0\n",
       "Distance                  0\n",
       "TaxiIn                 7110\n",
       "TaxiOut                 455\n",
       "Cancelled                 0\n",
       "CancellationCode          0\n",
       "Diverted                  0\n",
       "CarrierDelay         484314\n",
       "WeatherDelay         484314\n",
       "NASDelay             484314\n",
       "SecurityDelay        484314\n",
       "LateAircraftDelay    484314\n",
       "dtype: int64"
      ]
     },
     "execution_count": 13,
     "metadata": {},
     "output_type": "execute_result"
    }
   ],
   "source": [
    "\n",
    "for i in ['CarrierDelay','WeatherDelay', 'NASDelay', 'SecurityDelay', 'LateAircraftDelay']:\n",
    "    flights2008_df.loc[(flights2008_df.ArrDelay==0)&(flights2008_df[i].isnull()),i ]=0\n",
    "\n",
    "flights2008_df.loc[(flights2008_df.ArrDelay==0)&(flights2008_df['ArrTime'].isnull()),'ArrTime']=flights2008_df.CRSArrTime\n",
    "\n",
    "flights2008_df.isnull().sum()"
   ]
  },
  {
   "cell_type": "code",
   "execution_count": 14,
   "id": "bd6d6722",
   "metadata": {},
   "outputs": [
    {
     "name": "stdout",
     "output_type": "stream",
     "text": [
      "ArrTime té 0 instancies buides (nan) on no hi hagi retras.\n",
      "ActualElapsedTime té 0 instancies buides (nan) on no hi hagi retras.\n",
      "CRSElapsedTime té 0 instancies buides (nan) on no hi hagi retras.\n",
      "AirTime té 0 instancies buides (nan) on no hi hagi retras.\n",
      "TaxiIn té 0 instancies buides (nan) on no hi hagi retras.\n",
      "TaxiOut té 0 instancies buides (nan) on no hi hagi retras.\n",
      "CarrierDelay té 0 instancies buides (nan) on no hi hagi retras.\n",
      "WeatherDelay té 0 instancies buides (nan) on no hi hagi retras.\n",
      "NASDelay té 0 instancies buides (nan) on no hi hagi retras.\n",
      "SecurityDelay té 0 instancies buides (nan) on no hi hagi retras.\n",
      "LateAircraftDelay té 0 instancies buides (nan) on no hi hagi retras.\n"
     ]
    }
   ],
   "source": [
    "for i in [ 'ArrTime','ActualElapsedTime', 'CRSElapsedTime', 'AirTime', 'TaxiIn', 'TaxiOut',\n",
    "       'CarrierDelay','WeatherDelay', 'NASDelay', 'SecurityDelay', 'LateAircraftDelay']:\n",
    "       buit= flights2008_df[(flights2008_df.ArrDelay==0)&(flights2008_df[i].isnull())].count().Month\n",
    "       print (f'{i} té {buit} instancies buides (nan) on no hi hagi retras.')"
   ]
  },
  {
   "cell_type": "code",
   "execution_count": 15,
   "id": "f2e2084c",
   "metadata": {},
   "outputs": [
    {
     "data": {
      "text/plain": [
       "Month                0\n",
       "DayofMonth           0\n",
       "DayOfWeek            0\n",
       "DepTime              0\n",
       "CRSDepTime           0\n",
       "ArrTime              0\n",
       "CRSArrTime           0\n",
       "UniqueCarrier        0\n",
       "FlightNum            0\n",
       "TailNum              0\n",
       "ActualElapsedTime    0\n",
       "CRSElapsedTime       0\n",
       "AirTime              0\n",
       "ArrDelay             0\n",
       "DepDelay             0\n",
       "Origin               0\n",
       "Dest                 0\n",
       "Distance             0\n",
       "TaxiIn               0\n",
       "TaxiOut              0\n",
       "Cancelled            0\n",
       "CancellationCode     0\n",
       "Diverted             0\n",
       "CarrierDelay         0\n",
       "WeatherDelay         0\n",
       "NASDelay             0\n",
       "SecurityDelay        0\n",
       "LateAircraftDelay    0\n",
       "dtype: int64"
      ]
     },
     "execution_count": 15,
     "metadata": {},
     "output_type": "execute_result"
    }
   ],
   "source": [
    "#Com que no hi han dates de vols no retrassat, es procedeix a eliminar els valors nuls:\n",
    "index=list(flights2008_df[flights2008_df['LateAircraftDelay'].isnull()].index)#index de vols que tenen distancia nul\n",
    "flights2008_df.drop(index=index, inplace=True)\n",
    "flights2008_df.isnull().sum()"
   ]
  },
  {
   "cell_type": "markdown",
   "id": "2c32bca6",
   "metadata": {},
   "source": [
    "Al netejar el dataframe no queden vols cancelats. Es poden borrar totes les columnes referents a la cancelació i desviació de vols."
   ]
  },
  {
   "cell_type": "code",
   "execution_count": 16,
   "id": "6dbd9fb0",
   "metadata": {
    "ExecuteTime": {
     "end_time": "2022-04-06T06:48:15.118271Z",
     "start_time": "2022-04-06T06:48:14.721325Z"
    }
   },
   "outputs": [
    {
     "data": {
      "text/plain": [
       "1    0.858889\n",
       "0    0.141111\n",
       "Name: ArrDelay, dtype: float64"
      ]
     },
     "execution_count": 16,
     "metadata": {},
     "output_type": "execute_result"
    }
   ],
   "source": [
    "flights2008_df.ArrDelay.value_counts(normalize=True) "
   ]
  },
  {
   "cell_type": "markdown",
   "id": "b3f21743",
   "metadata": {},
   "source": [
    "Hi ha molts més vols amb retard que sense 85.9% vs 14.1% del total), s'haurà de treballar amb 2 classes desbalancejades. Cal veure quin model podem fer servir, per tal d'avaluar el model també és molt important determinar quin és el paràmetre que ens permet comparar entre mètodes. A la bibliografia trobem que per a un problema de classificació entre classes, on li donem donem igual valor a les dues i la classe majoritària representa >80% del total de valors, el paràmetre a seguir seria la G-Mean."
   ]
  },
  {
   "cell_type": "code",
   "execution_count": 17,
   "id": "61865c46",
   "metadata": {},
   "outputs": [],
   "source": [
    "def check_classification_method(method_classifier,features,label, random): #si random=0 serà aletori!\n",
    "    if random==0:\n",
    "        random_state=None\n",
    "    X_train, X_test, y_train, y_test = train_test_split(features, label, test_size=0.20, random_state=random)\n",
    "    method=method_classifier\n",
    "    method.fit(X_train, list(y_train))\n",
    "    prediction= method.predict(X_test)\n",
    "    return  prediction,y_test\n"
   ]
  },
  {
   "cell_type": "code",
   "execution_count": 26,
   "id": "7a9708d2",
   "metadata": {},
   "outputs": [],
   "source": [
    "# Retorna una lista con metrica de classificacion accuracy, matrix confusion, G-Mean, f1 score + informe \n",
    "# Generem DataFrame per a contenir després els resultats.\n",
    "metrics_df = pd.DataFrame(columns = ['Model', 'Accuracy' , 'Confusion Matrix', 'G-Mean'])\n",
    "def check_prediction(prediction,real):\n",
    "    list=[]\n",
    "    accuracy=accuracy_score(real,prediction)\n",
    "    confusion=confusion_matrix(real, prediction)\n",
    "    gmean_score=round(geometric_mean_score(real, prediction,average = 'binary'),3)\n",
    "    f1=f1_score(real, prediction, average='binary', sample_weight=None, zero_division='warn')\n",
    "    list_metrics=[accuracy, confusion,gmean_score,f1]\n",
    "    report= classification_report(real, prediction)\n",
    "    return list_metrics, report"
   ]
  },
  {
   "cell_type": "code",
   "execution_count": 19,
   "id": "78752373",
   "metadata": {},
   "outputs": [
    {
     "data": {
      "text/html": [
       "<div>\n",
       "<style scoped>\n",
       "    .dataframe tbody tr th:only-of-type {\n",
       "        vertical-align: middle;\n",
       "    }\n",
       "\n",
       "    .dataframe tbody tr th {\n",
       "        vertical-align: top;\n",
       "    }\n",
       "\n",
       "    .dataframe thead th {\n",
       "        text-align: right;\n",
       "    }\n",
       "</style>\n",
       "<table border=\"1\" class=\"dataframe\">\n",
       "  <thead>\n",
       "    <tr style=\"text-align: right;\">\n",
       "      <th></th>\n",
       "      <th>Month</th>\n",
       "      <th>DayofMonth</th>\n",
       "      <th>DayOfWeek</th>\n",
       "      <th>DepTime</th>\n",
       "      <th>CRSDepTime</th>\n",
       "      <th>ArrTime</th>\n",
       "      <th>CRSArrTime</th>\n",
       "      <th>FlightNum</th>\n",
       "      <th>ActualElapsedTime</th>\n",
       "      <th>CRSElapsedTime</th>\n",
       "      <th>...</th>\n",
       "      <th>Distance</th>\n",
       "      <th>TaxiIn</th>\n",
       "      <th>TaxiOut</th>\n",
       "      <th>Cancelled</th>\n",
       "      <th>Diverted</th>\n",
       "      <th>CarrierDelay</th>\n",
       "      <th>WeatherDelay</th>\n",
       "      <th>NASDelay</th>\n",
       "      <th>SecurityDelay</th>\n",
       "      <th>LateAircraftDelay</th>\n",
       "    </tr>\n",
       "  </thead>\n",
       "  <tbody>\n",
       "    <tr>\n",
       "      <th>515702</th>\n",
       "      <td>3</td>\n",
       "      <td>12</td>\n",
       "      <td>3</td>\n",
       "      <td>1911.0</td>\n",
       "      <td>1847</td>\n",
       "      <td>2236.0</td>\n",
       "      <td>2211</td>\n",
       "      <td>552</td>\n",
       "      <td>145.0</td>\n",
       "      <td>144.0</td>\n",
       "      <td>...</td>\n",
       "      <td>936</td>\n",
       "      <td>6.0</td>\n",
       "      <td>19.0</td>\n",
       "      <td>0</td>\n",
       "      <td>0</td>\n",
       "      <td>24.0</td>\n",
       "      <td>0.0</td>\n",
       "      <td>1.0</td>\n",
       "      <td>0.0</td>\n",
       "      <td>0.0</td>\n",
       "    </tr>\n",
       "    <tr>\n",
       "      <th>466285</th>\n",
       "      <td>3</td>\n",
       "      <td>17</td>\n",
       "      <td>1</td>\n",
       "      <td>1033.0</td>\n",
       "      <td>935</td>\n",
       "      <td>1152.0</td>\n",
       "      <td>1059</td>\n",
       "      <td>322</td>\n",
       "      <td>79.0</td>\n",
       "      <td>84.0</td>\n",
       "      <td>...</td>\n",
       "      <td>397</td>\n",
       "      <td>9.0</td>\n",
       "      <td>10.0</td>\n",
       "      <td>0</td>\n",
       "      <td>0</td>\n",
       "      <td>0.0</td>\n",
       "      <td>0.0</td>\n",
       "      <td>0.0</td>\n",
       "      <td>0.0</td>\n",
       "      <td>53.0</td>\n",
       "    </tr>\n",
       "  </tbody>\n",
       "</table>\n",
       "<p>2 rows × 22 columns</p>\n",
       "</div>"
      ],
      "text/plain": [
       "        Month  DayofMonth  DayOfWeek  DepTime  CRSDepTime  ArrTime  \\\n",
       "515702      3          12          3   1911.0        1847   2236.0   \n",
       "466285      3          17          1   1033.0         935   1152.0   \n",
       "\n",
       "        CRSArrTime  FlightNum  ActualElapsedTime  CRSElapsedTime  ...  \\\n",
       "515702        2211        552              145.0           144.0  ...   \n",
       "466285        1059        322               79.0            84.0  ...   \n",
       "\n",
       "        Distance  TaxiIn  TaxiOut  Cancelled  Diverted  CarrierDelay  \\\n",
       "515702       936     6.0     19.0          0         0          24.0   \n",
       "466285       397     9.0     10.0          0         0           0.0   \n",
       "\n",
       "        WeatherDelay  NASDelay  SecurityDelay  LateAircraftDelay  \n",
       "515702           0.0       1.0            0.0                0.0  \n",
       "466285           0.0       0.0            0.0               53.0  \n",
       "\n",
       "[2 rows x 22 columns]"
      ]
     },
     "execution_count": 19,
     "metadata": {},
     "output_type": "execute_result"
    }
   ],
   "source": [
    "# Eliminem les dades no numèriques del Dataframe:\n",
    "df_small=flights2008_df.sample(n=50000,random_state=42)\n",
    "objectiu=list(df_small.ArrDelay)     \n",
    "df_small.drop('ArrDelay', axis=1, inplace=True)\n",
    "categor_index=df_small.dtypes[df_small.dtypes!='object'].index\n",
    "df_small=df_small[categor_index]\n",
    "df_small.head()[:2]"
   ]
  },
  {
   "cell_type": "markdown",
   "id": "e900e3f2",
   "metadata": {},
   "source": [
    "K Neighbors classifier \n",
    "\n",
    "Support Vector Classification \n",
    "\n"
   ]
  },
  {
   "cell_type": "code",
   "execution_count": 20,
   "id": "b8807894",
   "metadata": {},
   "outputs": [],
   "source": [
    "X_train, X_test, y_train, y_test = train_test_split(df_small, objectiu, test_size=0.20, random_state=42)\n",
    "method=KNeighborsClassifier(n_neighbors=5)\n",
    "method.fit(X_train, y_train)\n",
    "prediction= method.predict(X_test)"
   ]
  },
  {
   "cell_type": "code",
   "execution_count": null,
   "id": "671b7045",
   "metadata": {},
   "outputs": [],
   "source": [
    "model_list=['KNN', 'Support Vector']"
   ]
  },
  {
   "cell_type": "code",
   "execution_count": null,
   "id": "de97460f",
   "metadata": {},
   "outputs": [],
   "source": [
    "for i in [KNeighborsClassifier(n_neighbors=5), SVC(gamma='auto')]:\n",
    "    \n",
    "    prediction, real = check_classification_method(i,df_small,objectiu,0)\n",
    "    metric_list, inform = check_prediction (prediction, real)\n",
    "    print (i)\n",
    "    print(f'Accuracy {metric_list[0]}')\n",
    "    print('confusion matrix', metric_list[1])\n",
    "    print (inform)"
   ]
  },
  {
   "cell_type": "code",
   "execution_count": null,
   "id": "47c16d01",
   "metadata": {},
   "outputs": [],
   "source": []
  },
  {
   "cell_type": "markdown",
   "id": "4718bc81",
   "metadata": {},
   "source": [
    "()"
   ]
  },
  {
   "cell_type": "code",
   "execution_count": 21,
   "id": "b64d01bf",
   "metadata": {},
   "outputs": [
    {
     "name": "stdout",
     "output_type": "stream",
     "text": [
      "Gradient Boosting Classification\n",
      "Accuracy 1.0\n",
      "confusion matrix [[1433    0]\n",
      " [   0 8567]]\n",
      "G-Mean: 1.0\n",
      "              precision    recall  f1-score   support\n",
      "\n",
      "           0       1.00      1.00      1.00      1433\n",
      "           1       1.00      1.00      1.00      8567\n",
      "\n",
      "    accuracy                           1.00     10000\n",
      "   macro avg       1.00      1.00      1.00     10000\n",
      "weighted avg       1.00      1.00      1.00     10000\n",
      "\n"
     ]
    }
   ],
   "source": [
    "prediction, real = check_classification_method(GradientBoostingClassifier(n_estimators=100, learning_rate=1.0,max_depth=1, random_state=0),df_small,objectiu,0)\n",
    "metric_list, inform  = check_prediction (prediction, real)\n",
    "print ('Gradient Boosting Classification')\n",
    "print(f'Accuracy {metric_list[0]}')\n",
    "print('confusion matrix', metric_list[1])\n",
    "print('G-Mean:', metric_list[2])\n",
    "print (inform)\n"
   ]
  },
  {
   "cell_type": "code",
   "execution_count": 25,
   "id": "53fb9fa7",
   "metadata": {},
   "outputs": [
    {
     "name": "stdout",
     "output_type": "stream",
     "text": [
      "* * * * *  Nearest Neighbors  * * * * *\n",
      "Accuracy 0.8582\n",
      "confusion matrix [[ 443  990]\n",
      " [ 428 8139]]\n",
      "G-Mean: 0.542\n",
      "* * * * *  Linear SVM  * * * * *\n",
      "Accuracy 1.0\n",
      "confusion matrix [[1433    0]\n",
      " [   0 8567]]\n",
      "G-Mean: 1.0\n",
      "* * * * *  Decision Tree  * * * * *\n",
      "Accuracy 0.9904\n",
      "confusion matrix [[1349   84]\n",
      " [  12 8555]]\n",
      "G-Mean: 0.97\n",
      "* * * * *  Random Forest  * * * * *\n",
      "Accuracy 0.8625\n",
      "confusion matrix [[  58 1375]\n",
      " [   0 8567]]\n",
      "G-Mean: 0.201\n",
      "* * * * *  Neural Net  * * * * *\n",
      "Accuracy 0.9992\n",
      "confusion matrix [[1426    7]\n",
      " [   1 8566]]\n",
      "G-Mean: 0.997\n",
      "* * * * *  AdaBoost  * * * * *\n",
      "Accuracy 1.0\n",
      "confusion matrix [[1433    0]\n",
      " [   0 8567]]\n",
      "G-Mean: 1.0\n",
      "* * * * *  Naive Bayes  * * * * *\n",
      "Accuracy 1.0\n",
      "confusion matrix [[1433    0]\n",
      " [   0 8567]]\n",
      "G-Mean: 1.0\n",
      "* * * * *  QDA  * * * * *\n",
      "Accuracy 0.1433\n",
      "confusion matrix [[1433    0]\n",
      " [8567    0]]\n",
      "G-Mean: 0.0\n"
     ]
    },
    {
     "name": "stderr",
     "output_type": "stream",
     "text": [
      "C:\\Users\\march\\anaconda3\\envs\\machineLearning37\\lib\\site-packages\\sklearn\\discriminant_analysis.py:878: UserWarning: Variables are collinear\n",
      "  warnings.warn(\"Variables are collinear\")\n",
      "C:\\Users\\march\\anaconda3\\envs\\machineLearning37\\lib\\site-packages\\sklearn\\discriminant_analysis.py:903: RuntimeWarning: divide by zero encountered in power\n",
      "  X2 = np.dot(Xm, R * (S ** (-0.5)))\n",
      "C:\\Users\\march\\anaconda3\\envs\\machineLearning37\\lib\\site-packages\\sklearn\\discriminant_analysis.py:903: RuntimeWarning: invalid value encountered in multiply\n",
      "  X2 = np.dot(Xm, R * (S ** (-0.5)))\n",
      "C:\\Users\\march\\anaconda3\\envs\\machineLearning37\\lib\\site-packages\\sklearn\\discriminant_analysis.py:906: RuntimeWarning: divide by zero encountered in log\n",
      "  u = np.asarray([np.sum(np.log(s)) for s in self.scalings_])\n",
      "C:\\Users\\march\\anaconda3\\envs\\machineLearning37\\lib\\site-packages\\sklearn\\metrics\\_classification.py:1318: UndefinedMetricWarning: Precision and F-score are ill-defined and being set to 0.0 in labels with no predicted samples. Use `zero_division` parameter to control this behavior.\n",
      "  _warn_prf(average, modifier, msg_start, len(result))\n",
      "C:\\Users\\march\\anaconda3\\envs\\machineLearning37\\lib\\site-packages\\sklearn\\metrics\\_classification.py:1318: UndefinedMetricWarning: Precision and F-score are ill-defined and being set to 0.0 in labels with no predicted samples. Use `zero_division` parameter to control this behavior.\n",
      "  _warn_prf(average, modifier, msg_start, len(result))\n",
      "C:\\Users\\march\\anaconda3\\envs\\machineLearning37\\lib\\site-packages\\sklearn\\metrics\\_classification.py:1318: UndefinedMetricWarning: Precision and F-score are ill-defined and being set to 0.0 in labels with no predicted samples. Use `zero_division` parameter to control this behavior.\n",
      "  _warn_prf(average, modifier, msg_start, len(result))\n"
     ]
    }
   ],
   "source": [
    "\n",
    "names = [\n",
    "    \"Nearest Neighbors\",\n",
    "    \"Linear SVM\",\"Decision Tree\",\n",
    "    \"Random Forest\",\n",
    "    \"Neural Net\",\n",
    "    \"AdaBoost\",\n",
    "    \"Naive Bayes\",\n",
    "    \"QDA\",\n",
    "]\n",
    "classifiers = [\n",
    "    KNeighborsClassifier(3),\n",
    "    SVC(kernel=\"linear\", C=0.025),\n",
    "    DecisionTreeClassifier(max_depth=5),\n",
    "    RandomForestClassifier(max_depth=5, n_estimators=10, max_features=1),\n",
    "    MLPClassifier(alpha=1, max_iter=1000),\n",
    "    AdaBoostClassifier(),\n",
    "    GaussianNB(),\n",
    "    QuadraticDiscriminantAnalysis()]\n",
    "\n",
    "j=0\n",
    "resultats_llista=[]\n",
    "Accuracy_list=[]\n",
    "g_mean_list=[]\n",
    "conf_matrix_list=[]\n",
    "\n",
    "for i in classifiers:\n",
    "    \n",
    "    prediction, real = check_classification_method(i,df_small,objectiu,0)\n",
    "    resultats_llista.append([names[j], prediction, real])\n",
    "    metric_list, inform  = check_prediction (prediction, real)\n",
    "    print ('* '*5,names[j],' *'*5)\n",
    "    print(f'Accuracy {metric_list[0]}')\n",
    "    Accuracy_list.append(metric_list[0])\n",
    "    print('confusion matrix', metric_list[1])\n",
    "    conf_matrix_list.append(metric_list[1])\n",
    "    print('G-Mean:', metric_list[2])\n",
    "    g_mean_list.append(metric_list[2])\n",
    "    j+=1\n",
    "\n"
   ]
  },
  {
   "cell_type": "code",
   "execution_count": null,
   "id": "53fb9fa7",
   "metadata": {},
   "outputs": [],
   "source": [
    "names = [\n",
    "    \n",
    "    \"Naive Bayes\"\n",
    "]\n",
    "classifiers = [\n",
    "    GaussianNB()]\n",
    "\n",
    "j=0\n",
    "resultats_llista3=[]\n",
    "for i in classifiers:\n",
    "    \n",
    "    prediction, real = check_classification_method(i,df_small,objectiu,0)\n",
    "    resultats_llista3.append([names[j], prediction, real])\n",
    "    acc, conf, inform = check_prediction (prediction, real)\n",
    "    print (names[j])\n",
    "    print(f'Accuracy {acc}')\n",
    "    print('confusion matrix', conf)\n",
    "    print (inform)\n",
    "    j+=1"
   ]
  },
  {
   "cell_type": "code",
   "execution_count": null,
   "id": "53fb9fa7",
   "metadata": {},
   "outputs": [],
   "source": [
    "names = [\n",
    "    \"Naive Bayes\",\n",
    "    \n",
    "]\n",
    "classifiers = [\n",
    "    GaussianNB()]\n",
    "\n",
    "j=0\n",
    "resultats_llista4=[]\n",
    "for i in classifiers:\n",
    "    \n",
    "    prediction, real = check_classification_method(i,df_small,objectiu,0)\n",
    "    resultats_llista4.append([names[j], prediction, real])\n",
    "    acc, conf, inform = check_prediction (prediction, real)\n",
    "    print (names[j])\n",
    "    print(f'Accuracy {acc}')\n",
    "    print('confusion matrix', conf)\n",
    "    print (inform)\n",
    "    j+=1"
   ]
  },
  {
   "cell_type": "code",
   "execution_count": null,
   "id": "53fb9fa7",
   "metadata": {},
   "outputs": [],
   "source": []
  },
  {
   "cell_type": "markdown",
   "id": "ac33497b",
   "metadata": {},
   "source": [
    "L'accuracy ha de ser >0.86 per a millorar la proporció real de la classe majoritària. S'observa que hi ha 2 casos:\n",
    "  1. Els mètode donen una precissó que és anàlogo a la proporció de la classe majoritària. Indica que la classificació no és bona per a la classe minòritaria.\n",
    "  2. Els mètodes donen una precissió i exactitud màxima perquè han trobat els parametres que correlacionen directaent amb el retard."
   ]
  },
  {
   "cell_type": "markdown",
   "id": "c158a7ac",
   "metadata": {},
   "source": [
    "Fonts d'informació per a la selecció del model:\n",
    "https://machinelearningmastery.com/framework-for-imbalanced-classification-projects/\n",
    "\n",
    "Evaluació de model de classificació per a classes imbalancejades:\n",
    "http://glemaitre.github.io/imbalanced-learn/generated/imblearn.metrics.geometric_mean_score.html\n",
    "\n",
    "https://stackabuse.com/overview-of-classification-methods-in-python-with-scikit-learn/"
   ]
  },
  {
   "cell_type": "markdown",
   "id": "d7f7fc54",
   "metadata": {},
   "source": [
    "\n",
    "![imagen](https://machinelearningmastery.com/wp-content/uploads/2019/12/How-to-Choose-a-Metric-for-Imbalanced-Classification-latest.png)"
   ]
  },
  {
   "cell_type": "markdown",
   "id": "7e66f58e",
   "metadata": {},
   "source": [
    "**- Exercici 2:**\n",
    "Compara els models de classificació utilitzant la precisió (accuracy), una matriu de confiança i d’altres mètriques més avançades."
   ]
  },
  {
   "cell_type": "markdown",
   "id": "28023aae",
   "metadata": {},
   "source": [
    "Està inclòs dintre l'exercici 1."
   ]
  },
  {
   "cell_type": "markdown",
   "id": "72163d27",
   "metadata": {},
   "source": [
    " **- Exercici 3:** Entrena’ls utilitzant els diferents paràmetres que admeten.\n"
   ]
  },
  {
   "cell_type": "code",
   "execution_count": null,
   "id": "2203e953",
   "metadata": {},
   "outputs": [],
   "source": []
  },
  {
   "cell_type": "code",
   "execution_count": null,
   "id": "6dd14001",
   "metadata": {},
   "outputs": [],
   "source": []
  },
  {
   "cell_type": "markdown",
   "id": "bde5892c",
   "metadata": {},
   "source": [
    "**- Exercici 4:** Compara el seu rendiment utilitzant l’aproximació traint/test o cross-validation.\n",
    "\n"
   ]
  },
  {
   "cell_type": "code",
   "execution_count": null,
   "id": "77c7e1e1",
   "metadata": {},
   "outputs": [],
   "source": []
  },
  {
   "cell_type": "markdown",
   "id": "8496cfc3",
   "metadata": {},
   "source": [
    "## Nivell 2"
   ]
  },
  {
   "cell_type": "markdown",
   "id": "2e462d0b",
   "metadata": {},
   "source": [
    "**- Exercici 5:** Realitza algun procés d’enginyeria de variables per millorar-ne la predicció\n"
   ]
  },
  {
   "cell_type": "code",
   "execution_count": null,
   "id": "09671843",
   "metadata": {},
   "outputs": [],
   "source": []
  },
  {
   "cell_type": "code",
   "execution_count": null,
   "id": "0fa9f646",
   "metadata": {},
   "outputs": [],
   "source": []
  },
  {
   "cell_type": "markdown",
   "id": "b68e6fbb",
   "metadata": {},
   "source": [
    "## Nivell 3"
   ]
  },
  {
   "cell_type": "markdown",
   "id": "2adaa38b",
   "metadata": {},
   "source": [
    "**- Exercici 6:** No utilitzis la variable DepDelay a l’hora de fer prediccions\n"
   ]
  },
  {
   "cell_type": "code",
   "execution_count": null,
   "id": "ff88a1dc",
   "metadata": {},
   "outputs": [],
   "source": []
  },
  {
   "cell_type": "code",
   "execution_count": null,
   "id": "5bf78803",
   "metadata": {},
   "outputs": [],
   "source": []
  },
  {
   "cell_type": "code",
   "execution_count": null,
   "id": "6e92e5b8",
   "metadata": {},
   "outputs": [],
   "source": []
  }
 ],
 "metadata": {
  "kernelspec": {
   "display_name": "Python 3 (ipykernel)",
   "language": "python",
   "name": "python3"
  },
  "language_info": {
   "codemirror_mode": {
    "name": "ipython",
    "version": 3
   },
   "file_extension": ".py",
   "mimetype": "text/x-python",
   "name": "python",
   "nbconvert_exporter": "python",
   "pygments_lexer": "ipython3",
   "version": "3.7.12"
  }
 },
 "nbformat": 4,
 "nbformat_minor": 5
}
