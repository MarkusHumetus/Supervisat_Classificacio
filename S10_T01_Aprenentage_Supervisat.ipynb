{
 "cells": [
  {
   "cell_type": "markdown",
   "id": "dcd6be5a",
   "metadata": {},
   "source": [
    "## Descripció"
   ]
  },
  {
   "cell_type": "markdown",
   "id": "81fbe001",
   "metadata": {},
   "source": [
    "Anem a practicar i a familiaritzar-nos amb algoritmes de classificació."
   ]
  },
  {
   "cell_type": "markdown",
   "id": "317c79e2",
   "metadata": {},
   "source": [
    "## Nivell 1"
   ]
  },
  {
   "cell_type": "markdown",
   "id": "432690a4",
   "metadata": {},
   "source": [
    "**- Exercici 1:**\n",
    "Crea almenys tres models de classificació diferents per intentar predir el millor possible l’endarreriment dels vols (ArrDelay) de DelayedFlights.csv. Considera si el vol ha arribat tard o no (ArrDelay > 0).\n"
   ]
  },
  {
   "cell_type": "code",
   "execution_count": 1,
   "id": "0299ceea",
   "metadata": {},
   "outputs": [],
   "source": [
    "import matplotlib.pyplot as plt\n",
    "import seaborn as sns\n",
    "import numpy as np\n",
    "import pandas as pd\n",
    "import re\n",
    "%matplotlib inline   "
   ]
  },
  {
   "cell_type": "code",
   "execution_count": 3,
   "id": "8db97bec",
   "metadata": {},
   "outputs": [
    {
     "name": "stdout",
     "output_type": "stream",
     "text": [
      "Note: you may need to restart the kernel to use updated packages.\n"
     ]
    },
    {
     "name": "stderr",
     "output_type": "stream",
     "text": [
      "ERROR: Could not find a version that satisfies the requirement nbextension (from versions: none)\n",
      "ERROR: No matching distribution found for nbextension\n"
     ]
    }
   ],
   "source": [
    "pip install nbextension"
   ]
  },
  {
   "cell_type": "code",
   "execution_count": null,
   "id": "c6ee53e2",
   "metadata": {},
   "outputs": [],
   "source": []
  },
  {
   "cell_type": "code",
   "execution_count": null,
   "id": "30dc53ef",
   "metadata": {},
   "outputs": [],
   "source": []
  },
  {
   "cell_type": "markdown",
   "id": "7e66f58e",
   "metadata": {},
   "source": [
    "**- Exercici 2:**\n",
    "Compara els models de classificació utilitzant la precisió (accuracy), una matriu de confiança i d’altres mètriques més avançades."
   ]
  },
  {
   "cell_type": "code",
   "execution_count": null,
   "id": "28023aae",
   "metadata": {},
   "outputs": [],
   "source": []
  },
  {
   "cell_type": "code",
   "execution_count": null,
   "id": "c9a1de09",
   "metadata": {},
   "outputs": [],
   "source": []
  },
  {
   "cell_type": "markdown",
   "id": "72163d27",
   "metadata": {},
   "source": [
    " **- Exercici 3:** Entrena’ls utilitzant els diferents paràmetres que admeten.\n"
   ]
  },
  {
   "cell_type": "code",
   "execution_count": null,
   "id": "2203e953",
   "metadata": {},
   "outputs": [],
   "source": []
  },
  {
   "cell_type": "code",
   "execution_count": null,
   "id": "6dd14001",
   "metadata": {},
   "outputs": [],
   "source": []
  },
  {
   "cell_type": "markdown",
   "id": "bde5892c",
   "metadata": {},
   "source": [
    "**- Exercici 4:** Compara el seu rendiment utilitzant l’aproximació traint/test o cross-validation.\n",
    "\n"
   ]
  },
  {
   "cell_type": "code",
   "execution_count": null,
   "id": "77c7e1e1",
   "metadata": {},
   "outputs": [],
   "source": []
  },
  {
   "cell_type": "markdown",
   "id": "8496cfc3",
   "metadata": {},
   "source": [
    "## Nivell 2"
   ]
  },
  {
   "cell_type": "markdown",
   "id": "2e462d0b",
   "metadata": {},
   "source": [
    "**- Exercici 5:** Realitza algun procés d’enginyeria de variables per millorar-ne la predicció\n"
   ]
  },
  {
   "cell_type": "code",
   "execution_count": null,
   "id": "09671843",
   "metadata": {},
   "outputs": [],
   "source": []
  },
  {
   "cell_type": "code",
   "execution_count": null,
   "id": "0fa9f646",
   "metadata": {},
   "outputs": [],
   "source": []
  },
  {
   "cell_type": "markdown",
   "id": "b68e6fbb",
   "metadata": {},
   "source": [
    "## Nivell 3"
   ]
  },
  {
   "cell_type": "markdown",
   "id": "2adaa38b",
   "metadata": {},
   "source": [
    "**- Exercici 6:** No utilitzis la variable DepDelay a l’hora de fer prediccions\n"
   ]
  },
  {
   "cell_type": "code",
   "execution_count": null,
   "id": "ff88a1dc",
   "metadata": {},
   "outputs": [],
   "source": []
  },
  {
   "cell_type": "code",
   "execution_count": null,
   "id": "5bf78803",
   "metadata": {},
   "outputs": [],
   "source": []
  },
  {
   "cell_type": "code",
   "execution_count": null,
   "id": "6e92e5b8",
   "metadata": {},
   "outputs": [],
   "source": []
  }
 ],
 "metadata": {
  "kernelspec": {
   "display_name": "Python 3 (ipykernel)",
   "language": "python",
   "name": "python3"
  },
  "language_info": {
   "codemirror_mode": {
    "name": "ipython",
    "version": 3
   },
   "file_extension": ".py",
   "mimetype": "text/x-python",
   "name": "python",
   "nbconvert_exporter": "python",
   "pygments_lexer": "ipython3",
   "version": "3.7.12"
  }
 },
 "nbformat": 4,
 "nbformat_minor": 5
}
