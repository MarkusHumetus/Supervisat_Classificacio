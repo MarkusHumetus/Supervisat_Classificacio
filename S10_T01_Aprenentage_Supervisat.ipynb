{
 "cells": [
  {
   "cell_type": "markdown",
   "id": "dcd6be5a",
   "metadata": {},
   "source": [
    "## Descripció"
   ]
  },
  {
   "cell_type": "markdown",
   "id": "81fbe001",
   "metadata": {},
   "source": [
    "Anem a practicar i a familiaritzar-nos amb algoritmes de classificació."
   ]
  },
  {
   "cell_type": "markdown",
   "id": "317c79e2",
   "metadata": {},
   "source": [
    "## Nivell 1"
   ]
  },
  {
   "cell_type": "markdown",
   "id": "432690a4",
   "metadata": {},
   "source": [
    "**- Exercici 1:**\n",
    "Crea almenys tres models de classificació diferents per intentar predir el millor possible l’endarreriment dels vols (ArrDelay) de DelayedFlights.csv. Considera si el vol ha arribat tard o no (ArrDelay > 0).\n"
   ]
  },
  {
   "cell_type": "code",
   "execution_count": 30,
   "id": "0299ceea",
   "metadata": {},
   "outputs": [],
   "source": [
    "import matplotlib.pyplot as plt\n",
    "import seaborn as sns\n",
    "import numpy as np\n",
    "import pandas as pd\n",
    "from sklearn.linear_model import LogisticRegression\n",
    "from sklearn.discriminant_analysis import LinearDiscriminantAnalysis\n",
    "from sklearn.neighbors import KNeighborsClassifier\n",
    "from sklearn.naive_bayes import GaussianNB\n",
    "from sklearn.tree import DecisionTreeClassifier\n",
    "from sklearn.ensemble import GradientBoostingClassifier\n",
    "from sklearn.svm import SVC\n",
    "from sklearn.metrics import f1_score\n",
    "from sklearn.metrics import classification_report\n",
    "from sklearn.metrics import confusion_matrix\n",
    "from sklearn.metrics import accuracy_score\n",
    "from sklearn.model_selection import train_test_split\n",
    "from sklearn.ensemble import RandomForestClassifier, AdaBoostClassifier\n",
    "from sklearn.neural_network import MLPClassifier\n",
    "from sklearn.gaussian_process import GaussianProcessClassifier\n",
    "from sklearn.gaussian_process.kernels import RBF\n",
    "from sklearn.naive_bayes import GaussianNB\n",
    "from sklearn.discriminant_analysis import QuadraticDiscriminantAnalysis\n",
    "from imblearn.metrics import geometric_mean_score\n",
    "\n",
    "%matplotlib inline   "
   ]
  },
  {
   "cell_type": "markdown",
   "id": "a42c586e",
   "metadata": {},
   "source": [
    "Baixem la base de dades i la netegem de la mateixa manera que el exercici anterior:"
   ]
  },
  {
   "cell_type": "code",
   "execution_count": 31,
   "id": "71af1d6c",
   "metadata": {
    "ExecuteTime": {
     "end_time": "2022-04-06T06:48:11.725348Z",
     "start_time": "2022-04-06T06:47:57.169921Z"
    },
    "scrolled": false
   },
   "outputs": [],
   "source": [
    "flights2008_df=pd.read_csv('C:\\\\Users\\\\march\\\\000 Treball Ju'yter 000\\\\Sprints_IT Academy_Data Science\\\\Sprint_9\\\\DelayedFlights.csv', )"
   ]
  },
  {
   "cell_type": "code",
   "execution_count": 32,
   "id": "c6ee53e2",
   "metadata": {},
   "outputs": [],
   "source": [
    "flights2008_df.drop(['Year'],axis=1,inplace=True) #eliminem l'any perquè tots els vols són del mateix any!!\n",
    "flights2008_df['TailNum'].fillna(value='Unknown',inplace=True) #canviem vols sens número de cua per unknown"
   ]
  },
  {
   "cell_type": "code",
   "execution_count": 33,
   "id": "c1e6b775",
   "metadata": {},
   "outputs": [],
   "source": [
    "flights2008_df.drop(['Unnamed: 0'],axis=1,inplace=True)"
   ]
  },
  {
   "cell_type": "code",
   "execution_count": 34,
   "id": "89347382",
   "metadata": {},
   "outputs": [
    {
     "data": {
      "text/html": [
       "<div>\n",
       "<style scoped>\n",
       "    .dataframe tbody tr th:only-of-type {\n",
       "        vertical-align: middle;\n",
       "    }\n",
       "\n",
       "    .dataframe tbody tr th {\n",
       "        vertical-align: top;\n",
       "    }\n",
       "\n",
       "    .dataframe thead th {\n",
       "        text-align: right;\n",
       "    }\n",
       "</style>\n",
       "<table border=\"1\" class=\"dataframe\">\n",
       "  <thead>\n",
       "    <tr style=\"text-align: right;\">\n",
       "      <th></th>\n",
       "      <th>Month</th>\n",
       "      <th>DayofMonth</th>\n",
       "      <th>DayOfWeek</th>\n",
       "      <th>DepTime</th>\n",
       "      <th>CRSDepTime</th>\n",
       "      <th>ArrTime</th>\n",
       "      <th>CRSArrTime</th>\n",
       "      <th>UniqueCarrier</th>\n",
       "      <th>FlightNum</th>\n",
       "      <th>TailNum</th>\n",
       "      <th>...</th>\n",
       "      <th>TaxiIn</th>\n",
       "      <th>TaxiOut</th>\n",
       "      <th>Cancelled</th>\n",
       "      <th>CancellationCode</th>\n",
       "      <th>Diverted</th>\n",
       "      <th>CarrierDelay</th>\n",
       "      <th>WeatherDelay</th>\n",
       "      <th>NASDelay</th>\n",
       "      <th>SecurityDelay</th>\n",
       "      <th>LateAircraftDelay</th>\n",
       "    </tr>\n",
       "    <tr>\n",
       "      <th>ArrDelay</th>\n",
       "      <th></th>\n",
       "      <th></th>\n",
       "      <th></th>\n",
       "      <th></th>\n",
       "      <th></th>\n",
       "      <th></th>\n",
       "      <th></th>\n",
       "      <th></th>\n",
       "      <th></th>\n",
       "      <th></th>\n",
       "      <th></th>\n",
       "      <th></th>\n",
       "      <th></th>\n",
       "      <th></th>\n",
       "      <th></th>\n",
       "      <th></th>\n",
       "      <th></th>\n",
       "      <th></th>\n",
       "      <th></th>\n",
       "      <th></th>\n",
       "      <th></th>\n",
       "    </tr>\n",
       "  </thead>\n",
       "  <tbody>\n",
       "    <tr>\n",
       "      <th>0</th>\n",
       "      <td>204956</td>\n",
       "      <td>204956</td>\n",
       "      <td>204956</td>\n",
       "      <td>204956</td>\n",
       "      <td>204956</td>\n",
       "      <td>204956</td>\n",
       "      <td>204956</td>\n",
       "      <td>204956</td>\n",
       "      <td>204956</td>\n",
       "      <td>204956</td>\n",
       "      <td>...</td>\n",
       "      <td>204956</td>\n",
       "      <td>204956</td>\n",
       "      <td>204956</td>\n",
       "      <td>204956</td>\n",
       "      <td>204956</td>\n",
       "      <td>0</td>\n",
       "      <td>0</td>\n",
       "      <td>0</td>\n",
       "      <td>0</td>\n",
       "      <td>0</td>\n",
       "    </tr>\n",
       "    <tr>\n",
       "      <th>1</th>\n",
       "      <td>1731802</td>\n",
       "      <td>1731802</td>\n",
       "      <td>1731802</td>\n",
       "      <td>1731802</td>\n",
       "      <td>1731802</td>\n",
       "      <td>1724692</td>\n",
       "      <td>1731802</td>\n",
       "      <td>1731802</td>\n",
       "      <td>1731802</td>\n",
       "      <td>1731802</td>\n",
       "      <td>...</td>\n",
       "      <td>1724692</td>\n",
       "      <td>1731347</td>\n",
       "      <td>1731802</td>\n",
       "      <td>1731802</td>\n",
       "      <td>1731802</td>\n",
       "      <td>1247488</td>\n",
       "      <td>1247488</td>\n",
       "      <td>1247488</td>\n",
       "      <td>1247488</td>\n",
       "      <td>1247488</td>\n",
       "    </tr>\n",
       "  </tbody>\n",
       "</table>\n",
       "<p>2 rows × 27 columns</p>\n",
       "</div>"
      ],
      "text/plain": [
       "            Month  DayofMonth  DayOfWeek  DepTime  CRSDepTime  ArrTime  \\\n",
       "ArrDelay                                                                 \n",
       "0          204956      204956     204956   204956      204956   204956   \n",
       "1         1731802     1731802    1731802  1731802     1731802  1724692   \n",
       "\n",
       "          CRSArrTime  UniqueCarrier  FlightNum  TailNum  ...   TaxiIn  \\\n",
       "ArrDelay                                                 ...            \n",
       "0             204956         204956     204956   204956  ...   204956   \n",
       "1            1731802        1731802    1731802  1731802  ...  1724692   \n",
       "\n",
       "          TaxiOut  Cancelled  CancellationCode  Diverted  CarrierDelay  \\\n",
       "ArrDelay                                                                 \n",
       "0          204956     204956            204956    204956             0   \n",
       "1         1731347    1731802           1731802   1731802       1247488   \n",
       "\n",
       "          WeatherDelay  NASDelay  SecurityDelay  LateAircraftDelay  \n",
       "ArrDelay                                                            \n",
       "0                    0         0              0                  0  \n",
       "1              1247488   1247488        1247488            1247488  \n",
       "\n",
       "[2 rows x 27 columns]"
      ]
     },
     "execution_count": 34,
     "metadata": {},
     "output_type": "execute_result"
    }
   ],
   "source": [
    "flights2008_df.ArrDelay=flights2008_df.ArrDelay.map(lambda x: 0 if x<=0 else 1)\n",
    "flights2008_df.groupby('ArrDelay').count()"
   ]
  },
  {
   "cell_type": "code",
   "execution_count": 35,
   "id": "6bd96573",
   "metadata": {},
   "outputs": [
    {
     "data": {
      "text/plain": [
       "1    0.894176\n",
       "0    0.105824\n",
       "Name: ArrDelay, dtype: float64"
      ]
     },
     "execution_count": 35,
     "metadata": {},
     "output_type": "execute_result"
    }
   ],
   "source": [
    "flights2008_df.ArrDelay.value_counts(normalize=True)"
   ]
  },
  {
   "cell_type": "code",
   "execution_count": 36,
   "id": "7ac4b84f",
   "metadata": {},
   "outputs": [
    {
     "data": {
      "text/plain": [
       "Month                     0\n",
       "DayofMonth                0\n",
       "DayOfWeek                 0\n",
       "DepTime                   0\n",
       "CRSDepTime                0\n",
       "ArrTime                7110\n",
       "CRSArrTime                0\n",
       "UniqueCarrier             0\n",
       "FlightNum                 0\n",
       "TailNum                   0\n",
       "ActualElapsedTime      8387\n",
       "CRSElapsedTime          198\n",
       "AirTime                8387\n",
       "ArrDelay                  0\n",
       "DepDelay                  0\n",
       "Origin                    0\n",
       "Dest                      0\n",
       "Distance                  0\n",
       "TaxiIn                 7110\n",
       "TaxiOut                 455\n",
       "Cancelled                 0\n",
       "CancellationCode          0\n",
       "Diverted                  0\n",
       "CarrierDelay         689270\n",
       "WeatherDelay         689270\n",
       "NASDelay             689270\n",
       "SecurityDelay        689270\n",
       "LateAircraftDelay    689270\n",
       "dtype: int64"
      ]
     },
     "execution_count": 36,
     "metadata": {},
     "output_type": "execute_result"
    }
   ],
   "source": [
    "flights2008_df.isnull().sum()"
   ]
  },
  {
   "cell_type": "markdown",
   "id": "76149890",
   "metadata": {},
   "source": [
    "Per les que el retras és nul, posem a 0 els retrassos diferents on no constava cap valor:"
   ]
  },
  {
   "cell_type": "code",
   "execution_count": 37,
   "id": "d61cb9ac",
   "metadata": {
    "ExecuteTime": {
     "end_time": "2022-04-06T06:48:14.717335Z",
     "start_time": "2022-04-06T06:48:13.177457Z"
    }
   },
   "outputs": [
    {
     "data": {
      "text/plain": [
       "Month                     0\n",
       "DayofMonth                0\n",
       "DayOfWeek                 0\n",
       "DepTime                   0\n",
       "CRSDepTime                0\n",
       "ArrTime                7110\n",
       "CRSArrTime                0\n",
       "UniqueCarrier             0\n",
       "FlightNum                 0\n",
       "TailNum                   0\n",
       "ActualElapsedTime      8387\n",
       "CRSElapsedTime          198\n",
       "AirTime                8387\n",
       "ArrDelay                  0\n",
       "DepDelay                  0\n",
       "Origin                    0\n",
       "Dest                      0\n",
       "Distance                  0\n",
       "TaxiIn                 7110\n",
       "TaxiOut                 455\n",
       "Cancelled                 0\n",
       "CancellationCode          0\n",
       "Diverted                  0\n",
       "CarrierDelay         484314\n",
       "WeatherDelay         484314\n",
       "NASDelay             484314\n",
       "SecurityDelay        484314\n",
       "LateAircraftDelay    484314\n",
       "dtype: int64"
      ]
     },
     "execution_count": 37,
     "metadata": {},
     "output_type": "execute_result"
    }
   ],
   "source": [
    "\n",
    "for i in ['CarrierDelay','WeatherDelay', 'NASDelay', 'SecurityDelay', 'LateAircraftDelay']:\n",
    "    flights2008_df.loc[(flights2008_df.ArrDelay==0)&(flights2008_df[i].isnull()),i ]=0\n",
    "\n",
    "flights2008_df.loc[(flights2008_df.ArrDelay==0)&(flights2008_df['ArrTime'].isnull()),'ArrTime']=flights2008_df.CRSArrTime\n",
    "\n",
    "flights2008_df.isnull().sum()"
   ]
  },
  {
   "cell_type": "code",
   "execution_count": 38,
   "id": "bd6d6722",
   "metadata": {},
   "outputs": [
    {
     "name": "stdout",
     "output_type": "stream",
     "text": [
      "ArrTime té 0 instancies buides (nan) on no hi hagi retras.\n",
      "ActualElapsedTime té 0 instancies buides (nan) on no hi hagi retras.\n",
      "CRSElapsedTime té 0 instancies buides (nan) on no hi hagi retras.\n",
      "AirTime té 0 instancies buides (nan) on no hi hagi retras.\n",
      "TaxiIn té 0 instancies buides (nan) on no hi hagi retras.\n",
      "TaxiOut té 0 instancies buides (nan) on no hi hagi retras.\n",
      "CarrierDelay té 0 instancies buides (nan) on no hi hagi retras.\n",
      "WeatherDelay té 0 instancies buides (nan) on no hi hagi retras.\n",
      "NASDelay té 0 instancies buides (nan) on no hi hagi retras.\n",
      "SecurityDelay té 0 instancies buides (nan) on no hi hagi retras.\n",
      "LateAircraftDelay té 0 instancies buides (nan) on no hi hagi retras.\n"
     ]
    }
   ],
   "source": [
    "for i in [ 'ArrTime','ActualElapsedTime', 'CRSElapsedTime', 'AirTime', 'TaxiIn', 'TaxiOut',\n",
    "       'CarrierDelay','WeatherDelay', 'NASDelay', 'SecurityDelay', 'LateAircraftDelay']:\n",
    "       buit= flights2008_df[(flights2008_df.ArrDelay==0)&(flights2008_df[i].isnull())].count().Month\n",
    "       print (f'{i} té {buit} instancies buides (nan) on no hi hagi retras.')"
   ]
  },
  {
   "cell_type": "code",
   "execution_count": 39,
   "id": "f2e2084c",
   "metadata": {},
   "outputs": [
    {
     "data": {
      "text/plain": [
       "Month                0\n",
       "DayofMonth           0\n",
       "DayOfWeek            0\n",
       "DepTime              0\n",
       "CRSDepTime           0\n",
       "ArrTime              0\n",
       "CRSArrTime           0\n",
       "UniqueCarrier        0\n",
       "FlightNum            0\n",
       "TailNum              0\n",
       "ActualElapsedTime    0\n",
       "CRSElapsedTime       0\n",
       "AirTime              0\n",
       "ArrDelay             0\n",
       "DepDelay             0\n",
       "Origin               0\n",
       "Dest                 0\n",
       "Distance             0\n",
       "TaxiIn               0\n",
       "TaxiOut              0\n",
       "Cancelled            0\n",
       "CancellationCode     0\n",
       "Diverted             0\n",
       "CarrierDelay         0\n",
       "WeatherDelay         0\n",
       "NASDelay             0\n",
       "SecurityDelay        0\n",
       "LateAircraftDelay    0\n",
       "dtype: int64"
      ]
     },
     "execution_count": 39,
     "metadata": {},
     "output_type": "execute_result"
    }
   ],
   "source": [
    "#Com que no hi han dates de vols no retrassat, es procedeix a eliminar els valors nuls:\n",
    "index=list(flights2008_df[flights2008_df['LateAircraftDelay'].isnull()].index)#index de vols que tenen distancia nul\n",
    "flights2008_df.drop(index=index, inplace=True)\n",
    "flights2008_df.isnull().sum()"
   ]
  },
  {
   "cell_type": "markdown",
   "id": "2c32bca6",
   "metadata": {},
   "source": [
    "Al netejar el dataframe no queden vols cancelats. Es poden borrar totes les columnes referents a la cancelació i desviació de vols."
   ]
  },
  {
   "cell_type": "code",
   "execution_count": 40,
   "id": "6dbd9fb0",
   "metadata": {
    "ExecuteTime": {
     "end_time": "2022-04-06T06:48:15.118271Z",
     "start_time": "2022-04-06T06:48:14.721325Z"
    }
   },
   "outputs": [
    {
     "data": {
      "text/plain": [
       "1    0.858889\n",
       "0    0.141111\n",
       "Name: ArrDelay, dtype: float64"
      ]
     },
     "execution_count": 40,
     "metadata": {},
     "output_type": "execute_result"
    }
   ],
   "source": [
    "flights2008_df.ArrDelay.value_counts(normalize=True) "
   ]
  },
  {
   "cell_type": "markdown",
   "id": "0c70a928",
   "metadata": {},
   "source": [
    "Inicialment només treballarem amb les columnes numèriques, així que procedim a agafar data frame on només estiguin aquestes (df_small):"
   ]
  },
  {
   "cell_type": "code",
   "execution_count": 42,
   "id": "78752373",
   "metadata": {},
   "outputs": [
    {
     "data": {
      "text/html": [
       "<div>\n",
       "<style scoped>\n",
       "    .dataframe tbody tr th:only-of-type {\n",
       "        vertical-align: middle;\n",
       "    }\n",
       "\n",
       "    .dataframe tbody tr th {\n",
       "        vertical-align: top;\n",
       "    }\n",
       "\n",
       "    .dataframe thead th {\n",
       "        text-align: right;\n",
       "    }\n",
       "</style>\n",
       "<table border=\"1\" class=\"dataframe\">\n",
       "  <thead>\n",
       "    <tr style=\"text-align: right;\">\n",
       "      <th></th>\n",
       "      <th>Month</th>\n",
       "      <th>DayofMonth</th>\n",
       "      <th>DayOfWeek</th>\n",
       "      <th>DepTime</th>\n",
       "      <th>CRSDepTime</th>\n",
       "      <th>ArrTime</th>\n",
       "      <th>CRSArrTime</th>\n",
       "      <th>FlightNum</th>\n",
       "      <th>ActualElapsedTime</th>\n",
       "      <th>CRSElapsedTime</th>\n",
       "      <th>...</th>\n",
       "      <th>Distance</th>\n",
       "      <th>TaxiIn</th>\n",
       "      <th>TaxiOut</th>\n",
       "      <th>Cancelled</th>\n",
       "      <th>Diverted</th>\n",
       "      <th>CarrierDelay</th>\n",
       "      <th>WeatherDelay</th>\n",
       "      <th>NASDelay</th>\n",
       "      <th>SecurityDelay</th>\n",
       "      <th>LateAircraftDelay</th>\n",
       "    </tr>\n",
       "  </thead>\n",
       "  <tbody>\n",
       "    <tr>\n",
       "      <th>515702</th>\n",
       "      <td>3</td>\n",
       "      <td>12</td>\n",
       "      <td>3</td>\n",
       "      <td>1911.0</td>\n",
       "      <td>1847</td>\n",
       "      <td>2236.0</td>\n",
       "      <td>2211</td>\n",
       "      <td>552</td>\n",
       "      <td>145.0</td>\n",
       "      <td>144.0</td>\n",
       "      <td>...</td>\n",
       "      <td>936</td>\n",
       "      <td>6.0</td>\n",
       "      <td>19.0</td>\n",
       "      <td>0</td>\n",
       "      <td>0</td>\n",
       "      <td>24.0</td>\n",
       "      <td>0.0</td>\n",
       "      <td>1.0</td>\n",
       "      <td>0.0</td>\n",
       "      <td>0.0</td>\n",
       "    </tr>\n",
       "    <tr>\n",
       "      <th>466285</th>\n",
       "      <td>3</td>\n",
       "      <td>17</td>\n",
       "      <td>1</td>\n",
       "      <td>1033.0</td>\n",
       "      <td>935</td>\n",
       "      <td>1152.0</td>\n",
       "      <td>1059</td>\n",
       "      <td>322</td>\n",
       "      <td>79.0</td>\n",
       "      <td>84.0</td>\n",
       "      <td>...</td>\n",
       "      <td>397</td>\n",
       "      <td>9.0</td>\n",
       "      <td>10.0</td>\n",
       "      <td>0</td>\n",
       "      <td>0</td>\n",
       "      <td>0.0</td>\n",
       "      <td>0.0</td>\n",
       "      <td>0.0</td>\n",
       "      <td>0.0</td>\n",
       "      <td>53.0</td>\n",
       "    </tr>\n",
       "  </tbody>\n",
       "</table>\n",
       "<p>2 rows × 22 columns</p>\n",
       "</div>"
      ],
      "text/plain": [
       "        Month  DayofMonth  DayOfWeek  DepTime  CRSDepTime  ArrTime  \\\n",
       "515702      3          12          3   1911.0        1847   2236.0   \n",
       "466285      3          17          1   1033.0         935   1152.0   \n",
       "\n",
       "        CRSArrTime  FlightNum  ActualElapsedTime  CRSElapsedTime  ...  \\\n",
       "515702        2211        552              145.0           144.0  ...   \n",
       "466285        1059        322               79.0            84.0  ...   \n",
       "\n",
       "        Distance  TaxiIn  TaxiOut  Cancelled  Diverted  CarrierDelay  \\\n",
       "515702       936     6.0     19.0          0         0          24.0   \n",
       "466285       397     9.0     10.0          0         0           0.0   \n",
       "\n",
       "        WeatherDelay  NASDelay  SecurityDelay  LateAircraftDelay  \n",
       "515702           0.0       1.0            0.0                0.0  \n",
       "466285           0.0       0.0            0.0               53.0  \n",
       "\n",
       "[2 rows x 22 columns]"
      ]
     },
     "execution_count": 42,
     "metadata": {},
     "output_type": "execute_result"
    }
   ],
   "source": [
    "# Eliminem les dades no numèriques del Dataframe:\n",
    "df_small=flights2008_df.sample(n=50000,random_state=42)\n",
    "objectiu=list(df_small.ArrDelay)     \n",
    "df_small.drop('ArrDelay', axis=1, inplace=True)\n",
    "categor_index=df_small.dtypes[df_small.dtypes!='object'].index\n",
    "df_small=df_small[categor_index]\n",
    "df_small.head()[:2]"
   ]
  },
  {
   "cell_type": "markdown",
   "id": "b3f21743",
   "metadata": {},
   "source": [
    "Hi ha molts més vols amb retard que sense 85.9% vs 14.1% del total), s'haurà de treballar amb 2 classes desbalancejades. Cal veure quin model podem fer servir, per tal d'avaluar el model també és molt important determinar quin és el paràmetre que ens permet comparar entre mètodes. A la bibliografia trobem que per a un problema de classificació entre classes, on li donem donem igual valor a les dues i la classe majoritària representa >80% del total de valors, el paràmetre a seguir seria la G-Mean."
   ]
  },
  {
   "cell_type": "markdown",
   "id": "c7c7d819",
   "metadata": {},
   "source": [
    "## Funcions generiques\n"
   ]
  },
  {
   "cell_type": "code",
   "execution_count": 41,
   "id": "61865c46",
   "metadata": {},
   "outputs": [],
   "source": [
    "def check_classification_method(method_classifier,features,label, random): #si random=0 serà aletori!\n",
    "    if random==0:\n",
    "        random_state=None\n",
    "    X_train, X_test, y_train, y_test = train_test_split(features, label, test_size=0.20, random_state=random)\n",
    "    method=method_classifier\n",
    "    method.fit(X_train, list(y_train))\n",
    "    prediction= method.predict(X_test)\n",
    "    return  prediction,y_test\n",
    "\n",
    "# Retorna una lista con metrica de classificacion accuracy, matrix confusion, G-Mean, f1 score + informe \n",
    "# Generem DataFrame per a contenir després els resultats.\n",
    "\n",
    "metrics_df = pd.DataFrame(columns = ['Model', 'Accuracy' , 'Confusion Matrix', 'G-Mean'])\n",
    "\n",
    "def check_prediction(prediction,real):\n",
    "    list=[]\n",
    "    accuracy=accuracy_score(real,prediction)\n",
    "    confusion=confusion_matrix(real, prediction)\n",
    "    gmean_score=round(geometric_mean_score(real, prediction,average = 'binary'),3)\n",
    "    f1=f1_score(real, prediction, average='binary', sample_weight=None, zero_division='warn')\n",
    "    list_metrics=[accuracy, confusion,gmean_score,f1]\n",
    "    report= classification_report(real, prediction)\n",
    "    return list_metrics, report"
   ]
  },
  {
   "cell_type": "markdown",
   "id": "c7c7d819",
   "metadata": {},
   "source": [
    "### Provem models"
   ]
  },
  {
   "cell_type": "code",
   "execution_count": 81,
   "id": "49fc4e49",
   "metadata": {},
   "outputs": [],
   "source": [
    "metrics_df.drop(metrics_df.index,inplace=True)"
   ]
  },
  {
   "cell_type": "code",
   "execution_count": 82,
   "id": "53fb9fa7",
   "metadata": {},
   "outputs": [
    {
     "name": "stdout",
     "output_type": "stream",
     "text": [
      "* * * * *  Nearest Neighbors  * * * * *\n",
      "Accuracy 0.8582\n",
      "confusion matrix [[ 443  990]\n",
      " [ 428 8139]]\n",
      "G-Mean: 0.542\n",
      "\n",
      "* * * * *  Linear SVM  * * * * *\n",
      "Accuracy 1.0\n",
      "confusion matrix [[1433    0]\n",
      " [   0 8567]]\n",
      "G-Mean: 1.0\n",
      "\n",
      "* * * * *  Decision Tree  * * * * *\n",
      "Accuracy 0.9904\n",
      "confusion matrix [[1349   84]\n",
      " [  12 8555]]\n",
      "G-Mean: 0.97\n",
      "\n",
      "* * * * *  Random Forest  * * * * *\n",
      "Accuracy 0.8614\n",
      "confusion matrix [[  47 1386]\n",
      " [   0 8567]]\n",
      "G-Mean: 0.181\n",
      "\n",
      "* * * * *  Neural Net  * * * * *\n",
      "Accuracy 0.9964\n",
      "confusion matrix [[1430    3]\n",
      " [  33 8534]]\n",
      "G-Mean: 0.997\n",
      "\n"
     ]
    }
   ],
   "source": [
    "\n",
    "names = [\n",
    "    \"Nearest Neighbors\",\n",
    "    \"Linear SVM\",\n",
    "    \"Decision Tree\",\n",
    "    \"Random Forest\",\n",
    "    \"Neural Net\",\n",
    "    ]\n",
    "classifiers = [\n",
    "    KNeighborsClassifier(3),\n",
    "    SVC(kernel=\"linear\", C=0.025),\n",
    "    DecisionTreeClassifier(max_depth=5),\n",
    "    RandomForestClassifier(max_depth=5, n_estimators=10, max_features=1),\n",
    "    MLPClassifier(alpha=1, max_iter=1000),\n",
    "    ]\n",
    "\n",
    "j=0\n",
    "resultats_llista=[]\n",
    "\n",
    "\n",
    "for i in classifiers:\n",
    "    prediction, real = check_classification_method(i,df_small,objectiu,0)\n",
    "    resultats_llista.append([names[j], prediction, real])\n",
    "    metric_list, inform  = check_prediction (prediction, real)\n",
    "    print ('* '*5,names[j],' *'*5)\n",
    "    print(f'Accuracy {metric_list[0]}')\n",
    "    print('confusion matrix', metric_list[1])\n",
    "    print('G-Mean:', metric_list[2])\n",
    "    nou_registre={'Model':names[j], 'Accuracy':metric_list[0] , \n",
    "                'Confusion Matrix':metric_list[1], \n",
    "                'G-Mean':metric_list[2]}\n",
    "    metrics_df= metrics_df.append(nou_registre,ignore_index=True)\n",
    "    print('')\n",
    "    j+=1\n",
    "\n"
   ]
  },
  {
   "cell_type": "code",
   "execution_count": 83,
   "id": "53fb9fa7",
   "metadata": {},
   "outputs": [
    {
     "name": "stdout",
     "output_type": "stream",
     "text": [
      "* * * * *  AdaBoost  * * * * *\n",
      "Accuracy 1.0\n",
      "confusion matrix [[1433    0]\n",
      " [   0 8567]]\n",
      "G-Mean: 1.0\n",
      "\n",
      "* * * * *  QDA  * * * * *\n",
      "Accuracy 0.1433\n",
      "confusion matrix [[1433    0]\n",
      " [8567    0]]\n",
      "G-Mean: 0.0\n",
      "\n"
     ]
    },
    {
     "name": "stderr",
     "output_type": "stream",
     "text": [
      "C:\\Users\\march\\anaconda3\\envs\\machineLearning37\\lib\\site-packages\\sklearn\\discriminant_analysis.py:878: UserWarning: Variables are collinear\n",
      "  warnings.warn(\"Variables are collinear\")\n",
      "C:\\Users\\march\\anaconda3\\envs\\machineLearning37\\lib\\site-packages\\sklearn\\discriminant_analysis.py:903: RuntimeWarning: divide by zero encountered in power\n",
      "  X2 = np.dot(Xm, R * (S ** (-0.5)))\n",
      "C:\\Users\\march\\anaconda3\\envs\\machineLearning37\\lib\\site-packages\\sklearn\\discriminant_analysis.py:903: RuntimeWarning: invalid value encountered in multiply\n",
      "  X2 = np.dot(Xm, R * (S ** (-0.5)))\n",
      "C:\\Users\\march\\anaconda3\\envs\\machineLearning37\\lib\\site-packages\\sklearn\\discriminant_analysis.py:906: RuntimeWarning: divide by zero encountered in log\n",
      "  u = np.asarray([np.sum(np.log(s)) for s in self.scalings_])\n",
      "C:\\Users\\march\\anaconda3\\envs\\machineLearning37\\lib\\site-packages\\sklearn\\metrics\\_classification.py:1318: UndefinedMetricWarning: Precision and F-score are ill-defined and being set to 0.0 in labels with no predicted samples. Use `zero_division` parameter to control this behavior.\n",
      "  _warn_prf(average, modifier, msg_start, len(result))\n",
      "C:\\Users\\march\\anaconda3\\envs\\machineLearning37\\lib\\site-packages\\sklearn\\metrics\\_classification.py:1318: UndefinedMetricWarning: Precision and F-score are ill-defined and being set to 0.0 in labels with no predicted samples. Use `zero_division` parameter to control this behavior.\n",
      "  _warn_prf(average, modifier, msg_start, len(result))\n",
      "C:\\Users\\march\\anaconda3\\envs\\machineLearning37\\lib\\site-packages\\sklearn\\metrics\\_classification.py:1318: UndefinedMetricWarning: Precision and F-score are ill-defined and being set to 0.0 in labels with no predicted samples. Use `zero_division` parameter to control this behavior.\n",
      "  _warn_prf(average, modifier, msg_start, len(result))\n"
     ]
    }
   ],
   "source": [
    "names = [\n",
    "    \"AdaBoost\",\n",
    "    \"QDA\",\n",
    "]\n",
    "classifiers = [\n",
    "    AdaBoostClassifier(),\n",
    "    QuadraticDiscriminantAnalysis()\n",
    "    ]\n",
    "\n",
    "j=0\n",
    "resultats_llista=[]\n",
    "\n",
    "for i in classifiers:\n",
    "    prediction, real = check_classification_method(i,df_small,objectiu,0)\n",
    "    resultats_llista.append([names[j], prediction, real])\n",
    "    metric_list, inform  = check_prediction (prediction, real)\n",
    "    print ('* '*5,names[j],' *'*5)\n",
    "    print(f'Accuracy {metric_list[0]}')\n",
    "    print('confusion matrix', metric_list[1])\n",
    "    print('G-Mean:', metric_list[2])\n",
    "    nou_registre={'Model':names[j], 'Accuracy':metric_list[0] , \n",
    "                'Confusion Matrix':metric_list[1], \n",
    "                'G-Mean':metric_list[2]}\n",
    "    metrics_df= metrics_df.append(nou_registre,ignore_index=True)\n",
    "    print()\n",
    "    j+=1\n"
   ]
  },
  {
   "cell_type": "code",
   "execution_count": 84,
   "id": "53fb9fa7",
   "metadata": {},
   "outputs": [
    {
     "name": "stdout",
     "output_type": "stream",
     "text": [
      "* * * * *  Gradient Boosting  * * * * *\n",
      "Accuracy 1.0\n",
      "confusion matrix [[1433    0]\n",
      " [   0 8567]]\n",
      "G-Mean: 1.0\n",
      "\n",
      "* * * * *  Naive Bayes  * * * * *\n",
      "Accuracy 1.0\n",
      "confusion matrix [[1433    0]\n",
      " [   0 8567]]\n",
      "G-Mean: 1.0\n",
      "\n"
     ]
    }
   ],
   "source": [
    "names = [\n",
    "    \"Gradient Boosting\",\n",
    "    \"Naive Bayes\"\n",
    "]\n",
    "classifiers = [\n",
    "    GradientBoostingClassifier(),\n",
    "    GaussianNB()\n",
    "    ]\n",
    "\n",
    "j=0\n",
    "resultats_llista=[]\n",
    "\n",
    "for i in classifiers:\n",
    "    prediction, real = check_classification_method(i,df_small,objectiu,0)\n",
    "    resultats_llista.append([names[j], prediction, real])\n",
    "    metric_list, inform  = check_prediction (prediction, real)\n",
    "    print ('* '*5,names[j],' *'*5)\n",
    "    print(f'Accuracy {metric_list[0]}')\n",
    "    print('confusion matrix', metric_list[1])\n",
    "    print('G-Mean:', metric_list[2])\n",
    "    nou_registre={'Model':names[j], 'Accuracy':metric_list[0] , \n",
    "                'Confusion Matrix':metric_list[1], \n",
    "                'G-Mean':metric_list[2]}\n",
    "    metrics_df= metrics_df.append(nou_registre,ignore_index=True)\n",
    "    print()\n",
    "    j+=1\n",
    "\n"
   ]
  },
  {
   "cell_type": "markdown",
   "id": "4718bc81",
   "metadata": {},
   "source": [
    "()"
   ]
  },
  {
   "cell_type": "markdown",
   "id": "ac33497b",
   "metadata": {},
   "source": [
    "L'accuracy ha de ser >0.86 per a millorar la proporció real de la classe majoritària. S'observa que hi ha 2 casos:\n",
    "  1. Els mètode donen una precissó que és anàlogo a la proporció de la classe majoritària. Indica que la classificació no és bona per a la classe minòritaria.\n",
    "  2. Els mètodes donen una precissió i exactitud màxima perquè han trobat els parametres que correlacionen directaent amb el retard."
   ]
  },
  {
   "cell_type": "markdown",
   "id": "c158a7ac",
   "metadata": {},
   "source": [
    "Fonts d'informació per a la selecció del model:\n",
    "https://machinelearningmastery.com/framework-for-imbalanced-classification-projects/\n",
    "\n",
    "Evaluació de model de classificació per a classes imbalancejades:\n",
    "http://glemaitre.github.io/imbalanced-learn/generated/imblearn.metrics.geometric_mean_score.html\n",
    "\n",
    "https://stackabuse.com/overview-of-classification-methods-in-python-with-scikit-learn/"
   ]
  },
  {
   "cell_type": "markdown",
   "id": "d7f7fc54",
   "metadata": {},
   "source": [
    "\n",
    "![imagen](https://machinelearningmastery.com/wp-content/uploads/2019/12/How-to-Choose-a-Metric-for-Imbalanced-Classification-latest.png)"
   ]
  },
  {
   "cell_type": "markdown",
   "id": "7e66f58e",
   "metadata": {},
   "source": [
    "**- Exercici 2:**\n",
    "Compara els models de classificació utilitzant la precisió (accuracy), una matriu de confiança i d’altres mètriques més avançades."
   ]
  },
  {
   "cell_type": "markdown",
   "id": "28023aae",
   "metadata": {},
   "source": [
    "El càlcul s'ha fet durant l'exercici 1, els resultats estan resumits en el dataframe metrics_df on he inclòs la G-Mean que seria la mètrica més adequada per a valorar el cas que tenim (classe majoritaria >80%població, les classes són igual d'importants):"
   ]
  },
  {
   "cell_type": "code",
   "execution_count": 85,
   "id": "51ccd76d",
   "metadata": {},
   "outputs": [
    {
     "data": {
      "text/html": [
       "<div>\n",
       "<style scoped>\n",
       "    .dataframe tbody tr th:only-of-type {\n",
       "        vertical-align: middle;\n",
       "    }\n",
       "\n",
       "    .dataframe tbody tr th {\n",
       "        vertical-align: top;\n",
       "    }\n",
       "\n",
       "    .dataframe thead th {\n",
       "        text-align: right;\n",
       "    }\n",
       "</style>\n",
       "<table border=\"1\" class=\"dataframe\">\n",
       "  <thead>\n",
       "    <tr style=\"text-align: right;\">\n",
       "      <th></th>\n",
       "      <th>Model</th>\n",
       "      <th>Accuracy</th>\n",
       "      <th>Confusion Matrix</th>\n",
       "      <th>G-Mean</th>\n",
       "    </tr>\n",
       "  </thead>\n",
       "  <tbody>\n",
       "    <tr>\n",
       "      <th>0</th>\n",
       "      <td>Nearest Neighbors</td>\n",
       "      <td>0.8582</td>\n",
       "      <td>[[443, 990], [428, 8139]]</td>\n",
       "      <td>0.542</td>\n",
       "    </tr>\n",
       "    <tr>\n",
       "      <th>1</th>\n",
       "      <td>Linear SVM</td>\n",
       "      <td>1.0000</td>\n",
       "      <td>[[1433, 0], [0, 8567]]</td>\n",
       "      <td>1.000</td>\n",
       "    </tr>\n",
       "    <tr>\n",
       "      <th>2</th>\n",
       "      <td>Decision Tree</td>\n",
       "      <td>0.9904</td>\n",
       "      <td>[[1349, 84], [12, 8555]]</td>\n",
       "      <td>0.970</td>\n",
       "    </tr>\n",
       "    <tr>\n",
       "      <th>3</th>\n",
       "      <td>Random Forest</td>\n",
       "      <td>0.8614</td>\n",
       "      <td>[[47, 1386], [0, 8567]]</td>\n",
       "      <td>0.181</td>\n",
       "    </tr>\n",
       "    <tr>\n",
       "      <th>4</th>\n",
       "      <td>Neural Net</td>\n",
       "      <td>0.9964</td>\n",
       "      <td>[[1430, 3], [33, 8534]]</td>\n",
       "      <td>0.997</td>\n",
       "    </tr>\n",
       "    <tr>\n",
       "      <th>5</th>\n",
       "      <td>AdaBoost</td>\n",
       "      <td>1.0000</td>\n",
       "      <td>[[1433, 0], [0, 8567]]</td>\n",
       "      <td>1.000</td>\n",
       "    </tr>\n",
       "    <tr>\n",
       "      <th>6</th>\n",
       "      <td>QDA</td>\n",
       "      <td>0.1433</td>\n",
       "      <td>[[1433, 0], [8567, 0]]</td>\n",
       "      <td>0.000</td>\n",
       "    </tr>\n",
       "    <tr>\n",
       "      <th>7</th>\n",
       "      <td>Gradient Boosting</td>\n",
       "      <td>1.0000</td>\n",
       "      <td>[[1433, 0], [0, 8567]]</td>\n",
       "      <td>1.000</td>\n",
       "    </tr>\n",
       "    <tr>\n",
       "      <th>8</th>\n",
       "      <td>Naive Bayes</td>\n",
       "      <td>1.0000</td>\n",
       "      <td>[[1433, 0], [0, 8567]]</td>\n",
       "      <td>1.000</td>\n",
       "    </tr>\n",
       "  </tbody>\n",
       "</table>\n",
       "</div>"
      ],
      "text/plain": [
       "               Model  Accuracy           Confusion Matrix  G-Mean\n",
       "0  Nearest Neighbors    0.8582  [[443, 990], [428, 8139]]   0.542\n",
       "1         Linear SVM    1.0000     [[1433, 0], [0, 8567]]   1.000\n",
       "2      Decision Tree    0.9904   [[1349, 84], [12, 8555]]   0.970\n",
       "3      Random Forest    0.8614    [[47, 1386], [0, 8567]]   0.181\n",
       "4         Neural Net    0.9964    [[1430, 3], [33, 8534]]   0.997\n",
       "5           AdaBoost    1.0000     [[1433, 0], [0, 8567]]   1.000\n",
       "6                QDA    0.1433     [[1433, 0], [8567, 0]]   0.000\n",
       "7  Gradient Boosting    1.0000     [[1433, 0], [0, 8567]]   1.000\n",
       "8        Naive Bayes    1.0000     [[1433, 0], [0, 8567]]   1.000"
      ]
     },
     "execution_count": 85,
     "metadata": {},
     "output_type": "execute_result"
    }
   ],
   "source": [
    "metrics_df"
   ]
  },
  {
   "cell_type": "markdown",
   "id": "72163d27",
   "metadata": {},
   "source": [
    " **- Exercici 3:** Entrena’ls utilitzant els diferents paràmetres que admeten.\n"
   ]
  },
  {
   "cell_type": "markdown",
   "id": "2dfb5658",
   "metadata": {},
   "source": [
    "Procedeixo a optimitzar dues metodologies que han donat més baixes: la de Nearest Neighbors i la de Random Forest:\n",
    "\n",
    "### Optimització K-Nearest Neighbours"
   ]
  },
  {
   "cell_type": "code",
   "execution_count": 143,
   "id": "6dd14001",
   "metadata": {},
   "outputs": [
    {
     "name": "stdout",
     "output_type": "stream",
     "text": [
      "* * *   K Neighbours classifier n=1 and mode=uniform.  * * *\n",
      "Accuracy 0.8519\n",
      "G-Mean: 0.63\n",
      "\n",
      "* * *   K Neighbours classifier n=3 and mode=uniform.  * * *\n",
      "Accuracy 0.8582\n",
      "G-Mean: 0.542\n",
      "\n",
      "* * *   K Neighbours classifier n=5 and mode=uniform.  * * *\n",
      "Accuracy 0.8595\n",
      "G-Mean: 0.454\n",
      "\n",
      "* * *   K Neighbours classifier n=7 and mode=uniform.  * * *\n",
      "Accuracy 0.8633\n",
      "G-Mean: 0.405\n",
      "\n",
      "* * *   K Neighbours classifier n=9 and mode=uniform.  * * *\n",
      "Accuracy 0.8628\n",
      "G-Mean: 0.357\n",
      "\n",
      "* * *   K Neighbours classifier n=11 and mode=uniform.  * * *\n",
      "Accuracy 0.8619\n",
      "G-Mean: 0.312\n",
      "\n",
      "* * *   K Neighbours classifier n=1 and mode=distance.  * * *\n",
      "Accuracy 0.8519\n",
      "G-Mean: 0.63\n",
      "\n",
      "* * *   K Neighbours classifier n=3 and mode=distance.  * * *\n",
      "Accuracy 0.8642\n",
      "G-Mean: 0.583\n",
      "\n",
      "* * *   K Neighbours classifier n=5 and mode=distance.  * * *\n",
      "Accuracy 0.8677\n",
      "G-Mean: 0.533\n",
      "\n",
      "* * *   K Neighbours classifier n=7 and mode=distance.  * * *\n",
      "Accuracy 0.8723\n",
      "G-Mean: 0.502\n",
      "\n",
      "* * *   K Neighbours classifier n=9 and mode=distance.  * * *\n",
      "Accuracy 0.8717\n",
      "G-Mean: 0.463\n",
      "\n",
      "* * *   K Neighbours classifier n=11 and mode=distance.  * * *\n",
      "Accuracy 0.8719\n",
      "G-Mean: 0.433\n",
      "\n"
     ]
    },
    {
     "data": {
      "text/html": [
       "<div>\n",
       "<style scoped>\n",
       "    .dataframe tbody tr th:only-of-type {\n",
       "        vertical-align: middle;\n",
       "    }\n",
       "\n",
       "    .dataframe tbody tr th {\n",
       "        vertical-align: top;\n",
       "    }\n",
       "\n",
       "    .dataframe thead th {\n",
       "        text-align: right;\n",
       "    }\n",
       "</style>\n",
       "<table border=\"1\" class=\"dataframe\">\n",
       "  <thead>\n",
       "    <tr style=\"text-align: right;\">\n",
       "      <th></th>\n",
       "      <th>n-neighbours</th>\n",
       "      <th>Weights</th>\n",
       "      <th>Confusion Matrix</th>\n",
       "      <th>Accuracy</th>\n",
       "      <th>G-Mean</th>\n",
       "    </tr>\n",
       "  </thead>\n",
       "  <tbody>\n",
       "    <tr>\n",
       "      <th>0</th>\n",
       "      <td>1</td>\n",
       "      <td>uniform</td>\n",
       "      <td>[[617, 816], [665, 7902]]</td>\n",
       "      <td>0.8519</td>\n",
       "      <td>0.630</td>\n",
       "    </tr>\n",
       "    <tr>\n",
       "      <th>1</th>\n",
       "      <td>3</td>\n",
       "      <td>uniform</td>\n",
       "      <td>[[443, 990], [428, 8139]]</td>\n",
       "      <td>0.8582</td>\n",
       "      <td>0.542</td>\n",
       "    </tr>\n",
       "    <tr>\n",
       "      <th>2</th>\n",
       "      <td>5</td>\n",
       "      <td>uniform</td>\n",
       "      <td>[[305, 1128], [277, 8290]]</td>\n",
       "      <td>0.8595</td>\n",
       "      <td>0.454</td>\n",
       "    </tr>\n",
       "    <tr>\n",
       "      <th>3</th>\n",
       "      <td>7</td>\n",
       "      <td>uniform</td>\n",
       "      <td>[[240, 1193], [174, 8393]]</td>\n",
       "      <td>0.8633</td>\n",
       "      <td>0.405</td>\n",
       "    </tr>\n",
       "    <tr>\n",
       "      <th>4</th>\n",
       "      <td>9</td>\n",
       "      <td>uniform</td>\n",
       "      <td>[[185, 1248], [124, 8443]]</td>\n",
       "      <td>0.8628</td>\n",
       "      <td>0.357</td>\n",
       "    </tr>\n",
       "    <tr>\n",
       "      <th>5</th>\n",
       "      <td>11</td>\n",
       "      <td>uniform</td>\n",
       "      <td>[[141, 1292], [89, 8478]]</td>\n",
       "      <td>0.8619</td>\n",
       "      <td>0.312</td>\n",
       "    </tr>\n",
       "    <tr>\n",
       "      <th>6</th>\n",
       "      <td>1</td>\n",
       "      <td>distance</td>\n",
       "      <td>[[617, 816], [665, 7902]]</td>\n",
       "      <td>0.8519</td>\n",
       "      <td>0.630</td>\n",
       "    </tr>\n",
       "    <tr>\n",
       "      <th>7</th>\n",
       "      <td>3</td>\n",
       "      <td>distance</td>\n",
       "      <td>[[513, 920], [438, 8129]]</td>\n",
       "      <td>0.8642</td>\n",
       "      <td>0.583</td>\n",
       "    </tr>\n",
       "    <tr>\n",
       "      <th>8</th>\n",
       "      <td>5</td>\n",
       "      <td>distance</td>\n",
       "      <td>[[423, 1010], [313, 8254]]</td>\n",
       "      <td>0.8677</td>\n",
       "      <td>0.533</td>\n",
       "    </tr>\n",
       "    <tr>\n",
       "      <th>9</th>\n",
       "      <td>7</td>\n",
       "      <td>distance</td>\n",
       "      <td>[[371, 1062], [215, 8352]]</td>\n",
       "      <td>0.8723</td>\n",
       "      <td>0.502</td>\n",
       "    </tr>\n",
       "    <tr>\n",
       "      <th>10</th>\n",
       "      <td>9</td>\n",
       "      <td>distance</td>\n",
       "      <td>[[313, 1120], [163, 8404]]</td>\n",
       "      <td>0.8717</td>\n",
       "      <td>0.463</td>\n",
       "    </tr>\n",
       "    <tr>\n",
       "      <th>11</th>\n",
       "      <td>11</td>\n",
       "      <td>distance</td>\n",
       "      <td>[[272, 1161], [120, 8447]]</td>\n",
       "      <td>0.8719</td>\n",
       "      <td>0.433</td>\n",
       "    </tr>\n",
       "  </tbody>\n",
       "</table>\n",
       "</div>"
      ],
      "text/plain": [
       "   n-neighbours   Weights            Confusion Matrix  Accuracy  G-Mean\n",
       "0             1   uniform   [[617, 816], [665, 7902]]    0.8519   0.630\n",
       "1             3   uniform   [[443, 990], [428, 8139]]    0.8582   0.542\n",
       "2             5   uniform  [[305, 1128], [277, 8290]]    0.8595   0.454\n",
       "3             7   uniform  [[240, 1193], [174, 8393]]    0.8633   0.405\n",
       "4             9   uniform  [[185, 1248], [124, 8443]]    0.8628   0.357\n",
       "5            11   uniform   [[141, 1292], [89, 8478]]    0.8619   0.312\n",
       "6             1  distance   [[617, 816], [665, 7902]]    0.8519   0.630\n",
       "7             3  distance   [[513, 920], [438, 8129]]    0.8642   0.583\n",
       "8             5  distance  [[423, 1010], [313, 8254]]    0.8677   0.533\n",
       "9             7  distance  [[371, 1062], [215, 8352]]    0.8723   0.502\n",
       "10            9  distance  [[313, 1120], [163, 8404]]    0.8717   0.463\n",
       "11           11  distance  [[272, 1161], [120, 8447]]    0.8719   0.433"
      ]
     },
     "execution_count": 143,
     "metadata": {},
     "output_type": "execute_result"
    }
   ],
   "source": [
    "## Optimització del K Neighbours Classifier\n",
    "knn_optim_df = pd.DataFrame(columns = ['n-neighbours', 'Weights' , 'Confusion Matrix','Accuracy', 'G-Mean'])\n",
    "j=0\n",
    "for weights_mode in ['uniform', 'distance']:\n",
    "    for i in [1,3,5,7,9,11]:\n",
    "        prediction, real = check_classification_method(KNeighborsClassifier(n_neighbors=i, \n",
    "                            weights=weights_mode),df_small,objectiu,0)\n",
    "        metric_list, inform  = check_prediction (prediction, real)\n",
    "        print ('* '*3,f' K Neighbours classifier n={i} and mode={weights_mode}.',' *'*3)\n",
    "        print(f'Accuracy {metric_list[0]}')\n",
    "        print('G-Mean:', metric_list[2])\n",
    "        nou_registre={'n-neighbours':i, \n",
    "                    'Weights':weights_mode, \n",
    "                    'Confusion Matrix': metric_list[1],\n",
    "                    'Accuracy':metric_list[0] , \n",
    "                    'G-Mean':metric_list[2]}                    \n",
    "        knn_optim_df= knn_optim_df.append(nou_registre,ignore_index=True)\n",
    "        print('')\n",
    "        j+=1\n",
    "knn_optim_df\n"
   ]
  },
  {
   "cell_type": "code",
   "execution_count": null,
   "id": "56ca3d43",
   "metadata": {},
   "outputs": [
    {
     "data": {
      "image/png": "[encoded data removed]",
      "text/plain": [
       "<Figure size 864x288 with 1 Axes>"
      ]
     },
     "metadata": {
      "needs_background": "light"
     },
     "output_type": "display_data"
    },
    {
     "data": {
      "image/png": "[encoded data removed]",
      "text/plain": [
       "<Figure size 864x288 with 1 Axes>"
      ]
     },
     "metadata": {
      "needs_background": "light"
     },
     "output_type": "display_data"
    }
   ],
   "source": [
    "fig, axs = plt.subplots(figsize=(12, 4))\n",
    "knn_optim_df[knn_optim_df.Weights=='uniform'].plot(x='n-neighbours', y=['G-Mean','Accuracy'],ax=axs)\n",
    "axs.set_title('Weight = Uniform')\n",
    "fig2, axs2 = plt.subplots(figsize=(12, 4))\n",
    "knn_optim_df[knn_optim_df.Weights=='distance'].plot(x='n-neighbours',y=['G-Mean','Accuracy'], ax=axs2)\n",
    "axs2.set_title('Weight = Distance')\n",
    "plt.show()\n",
    "\n"
   ]
  },
  {
   "cell_type": "markdown",
   "id": "d46a455e",
   "metadata": {},
   "source": [
    "COm era lògic, la classe minoritaria es veu beneficiada quan menys n-neighbours s'agafin (haurien de ser 1 o 3), la millor modalitat dels pesos es en referència a la distàncis (wheights=distance)."
   ]
  },
  {
   "cell_type": "markdown",
   "id": "4ca7c856",
   "metadata": {},
   "source": [
    "### Optimització del Random Forest Classifier\n"
   ]
  },
  {
   "cell_type": "code",
   "execution_count": 139,
   "id": "5b5bb4b5",
   "metadata": {},
   "outputs": [
    {
     "name": "stdout",
     "output_type": "stream",
     "text": [
      "* * *   Random Forest classifier # Estimators=20 and max_depth=5.  * * *\n",
      "Accuracy 0.9888\n",
      "G-Mean: 0.96\n",
      "\n",
      "* * *   Random Forest classifier # Estimators=20 and max_depth=10.  * * *\n",
      "Accuracy 0.9987\n",
      "G-Mean: 0.996\n",
      "\n",
      "* * *   Random Forest classifier # Estimators=20 and max_depth=15.  * * *\n",
      "Accuracy 0.9985\n",
      "G-Mean: 0.997\n",
      "\n",
      "* * *   Random Forest classifier # Estimators=20 and max_depth=20.  * * *\n",
      "Accuracy 0.9991\n",
      "G-Mean: 0.998\n",
      "\n",
      "* * *   Random Forest classifier # Estimators=20 and max_depth=25.  * * *\n",
      "Accuracy 0.999\n",
      "G-Mean: 0.998\n",
      "\n",
      "* * *   Random Forest classifier # Estimators=50 and max_depth=5.  * * *\n",
      "Accuracy 0.9883\n",
      "G-Mean: 0.959\n",
      "\n",
      "* * *   Random Forest classifier # Estimators=50 and max_depth=10.  * * *\n",
      "Accuracy 0.9987\n",
      "G-Mean: 0.996\n",
      "\n",
      "* * *   Random Forest classifier # Estimators=50 and max_depth=15.  * * *\n",
      "Accuracy 0.9992\n",
      "G-Mean: 0.999\n",
      "\n",
      "* * *   Random Forest classifier # Estimators=50 and max_depth=20.  * * *\n",
      "Accuracy 0.999\n",
      "G-Mean: 0.998\n",
      "\n",
      "* * *   Random Forest classifier # Estimators=50 and max_depth=25.  * * *\n",
      "Accuracy 0.9992\n",
      "G-Mean: 0.999\n",
      "\n",
      "* * *   Random Forest classifier # Estimators=300 and max_depth=5.  * * *\n",
      "Accuracy 0.9869\n",
      "G-Mean: 0.954\n",
      "\n",
      "* * *   Random Forest classifier # Estimators=300 and max_depth=10.  * * *\n",
      "Accuracy 0.9988\n",
      "G-Mean: 0.996\n",
      "\n",
      "* * *   Random Forest classifier # Estimators=300 and max_depth=15.  * * *\n",
      "Accuracy 0.9993\n",
      "G-Mean: 0.999\n",
      "\n",
      "* * *   Random Forest classifier # Estimators=300 and max_depth=20.  * * *\n",
      "Accuracy 0.9996\n",
      "G-Mean: 0.999\n",
      "\n",
      "* * *   Random Forest classifier # Estimators=300 and max_depth=25.  * * *\n",
      "Accuracy 0.9995\n",
      "G-Mean: 0.999\n",
      "\n",
      "* * *   Random Forest classifier # Estimators=750 and max_depth=5.  * * *\n",
      "Accuracy 0.9869\n",
      "G-Mean: 0.954\n",
      "\n",
      "* * *   Random Forest classifier # Estimators=750 and max_depth=10.  * * *\n",
      "Accuracy 0.9989\n",
      "G-Mean: 0.996\n",
      "\n",
      "* * *   Random Forest classifier # Estimators=750 and max_depth=15.  * * *\n",
      "Accuracy 0.9994\n",
      "G-Mean: 0.999\n",
      "\n",
      "* * *   Random Forest classifier # Estimators=750 and max_depth=20.  * * *\n",
      "Accuracy 0.9994\n",
      "G-Mean: 0.999\n",
      "\n",
      "* * *   Random Forest classifier # Estimators=750 and max_depth=25.  * * *\n",
      "Accuracy 0.9995\n",
      "G-Mean: 0.999\n",
      "\n"
     ]
    }
   ],
   "source": [
    "rf_optim_df = pd.DataFrame(columns = ['n-estimator', 'max_depth' , 'Confusion Matrix','Accuracy', 'G-Mean'])\n",
    "rf_optim_df.drop(index=rf_optim_df.index, inplace=True)\n",
    "max_depth_list=[5,10,15,20,25]\n",
    "n_estimator_list=[20, 50, 300, 750]\n",
    "j=0\n",
    "for n_estimator in n_estimator_list:\n",
    "    for max_depth  in max_depth_list:\n",
    "        prediction, real = check_classification_method(RandomForestClassifier(random_state = 1, \n",
    "                                    n_estimators = n_estimator, max_depth=max_depth),df_small,objectiu,0)\n",
    "        metric_list, inform  = check_prediction (prediction, real)\n",
    "        print ('* '*3,f' Random Forest classifier # Estimators={n_estimator} and max_depth={max_depth}.',' *'*3)\n",
    "        print(f'Accuracy {metric_list[0]}')\n",
    "        print('G-Mean:', metric_list[2])\n",
    "        nou_registre={'n-estimator':n_estimator, \n",
    "                    'max_depth':max_depth, \n",
    "                    'Confusion Matrix': metric_list[1],\n",
    "                    'Accuracy':metric_list[0] , \n",
    "                    'G-Mean':metric_list[2]}                    \n",
    "        rf_optim_df= rf_optim_df.append(nou_registre,ignore_index=True)\n",
    "        print('')\n",
    "        j+=1\n"
   ]
  },
  {
   "cell_type": "code",
   "execution_count": 140,
   "id": "99569837",
   "metadata": {},
   "outputs": [
    {
     "data": {
      "text/html": [
       "<div>\n",
       "<style scoped>\n",
       "    .dataframe tbody tr th:only-of-type {\n",
       "        vertical-align: middle;\n",
       "    }\n",
       "\n",
       "    .dataframe tbody tr th {\n",
       "        vertical-align: top;\n",
       "    }\n",
       "\n",
       "    .dataframe thead th {\n",
       "        text-align: right;\n",
       "    }\n",
       "</style>\n",
       "<table border=\"1\" class=\"dataframe\">\n",
       "  <thead>\n",
       "    <tr style=\"text-align: right;\">\n",
       "      <th></th>\n",
       "      <th>n-estimator</th>\n",
       "      <th>max_depth</th>\n",
       "      <th>Confusion Matrix</th>\n",
       "      <th>Accuracy</th>\n",
       "      <th>G-Mean</th>\n",
       "    </tr>\n",
       "  </thead>\n",
       "  <tbody>\n",
       "    <tr>\n",
       "      <th>0</th>\n",
       "      <td>20</td>\n",
       "      <td>5</td>\n",
       "      <td>[[1322, 111], [1, 8566]]</td>\n",
       "      <td>0.9888</td>\n",
       "      <td>0.960</td>\n",
       "    </tr>\n",
       "    <tr>\n",
       "      <th>1</th>\n",
       "      <td>20</td>\n",
       "      <td>10</td>\n",
       "      <td>[[1423, 10], [3, 8564]]</td>\n",
       "      <td>0.9987</td>\n",
       "      <td>0.996</td>\n",
       "    </tr>\n",
       "    <tr>\n",
       "      <th>2</th>\n",
       "      <td>20</td>\n",
       "      <td>15</td>\n",
       "      <td>[[1426, 7], [8, 8559]]</td>\n",
       "      <td>0.9985</td>\n",
       "      <td>0.997</td>\n",
       "    </tr>\n",
       "    <tr>\n",
       "      <th>3</th>\n",
       "      <td>20</td>\n",
       "      <td>20</td>\n",
       "      <td>[[1429, 4], [5, 8562]]</td>\n",
       "      <td>0.9991</td>\n",
       "      <td>0.998</td>\n",
       "    </tr>\n",
       "    <tr>\n",
       "      <th>4</th>\n",
       "      <td>20</td>\n",
       "      <td>25</td>\n",
       "      <td>[[1428, 5], [5, 8562]]</td>\n",
       "      <td>0.9990</td>\n",
       "      <td>0.998</td>\n",
       "    </tr>\n",
       "    <tr>\n",
       "      <th>5</th>\n",
       "      <td>50</td>\n",
       "      <td>5</td>\n",
       "      <td>[[1317, 116], [1, 8566]]</td>\n",
       "      <td>0.9883</td>\n",
       "      <td>0.959</td>\n",
       "    </tr>\n",
       "    <tr>\n",
       "      <th>6</th>\n",
       "      <td>50</td>\n",
       "      <td>10</td>\n",
       "      <td>[[1423, 10], [3, 8564]]</td>\n",
       "      <td>0.9987</td>\n",
       "      <td>0.996</td>\n",
       "    </tr>\n",
       "    <tr>\n",
       "      <th>7</th>\n",
       "      <td>50</td>\n",
       "      <td>15</td>\n",
       "      <td>[[1430, 3], [5, 8562]]</td>\n",
       "      <td>0.9992</td>\n",
       "      <td>0.999</td>\n",
       "    </tr>\n",
       "    <tr>\n",
       "      <th>8</th>\n",
       "      <td>50</td>\n",
       "      <td>20</td>\n",
       "      <td>[[1428, 5], [5, 8562]]</td>\n",
       "      <td>0.9990</td>\n",
       "      <td>0.998</td>\n",
       "    </tr>\n",
       "    <tr>\n",
       "      <th>9</th>\n",
       "      <td>50</td>\n",
       "      <td>25</td>\n",
       "      <td>[[1430, 3], [5, 8562]]</td>\n",
       "      <td>0.9992</td>\n",
       "      <td>0.999</td>\n",
       "    </tr>\n",
       "    <tr>\n",
       "      <th>10</th>\n",
       "      <td>300</td>\n",
       "      <td>5</td>\n",
       "      <td>[[1303, 130], [1, 8566]]</td>\n",
       "      <td>0.9869</td>\n",
       "      <td>0.954</td>\n",
       "    </tr>\n",
       "    <tr>\n",
       "      <th>11</th>\n",
       "      <td>300</td>\n",
       "      <td>10</td>\n",
       "      <td>[[1422, 11], [1, 8566]]</td>\n",
       "      <td>0.9988</td>\n",
       "      <td>0.996</td>\n",
       "    </tr>\n",
       "    <tr>\n",
       "      <th>12</th>\n",
       "      <td>300</td>\n",
       "      <td>15</td>\n",
       "      <td>[[1430, 3], [4, 8563]]</td>\n",
       "      <td>0.9993</td>\n",
       "      <td>0.999</td>\n",
       "    </tr>\n",
       "    <tr>\n",
       "      <th>13</th>\n",
       "      <td>300</td>\n",
       "      <td>20</td>\n",
       "      <td>[[1432, 1], [3, 8564]]</td>\n",
       "      <td>0.9996</td>\n",
       "      <td>0.999</td>\n",
       "    </tr>\n",
       "    <tr>\n",
       "      <th>14</th>\n",
       "      <td>300</td>\n",
       "      <td>25</td>\n",
       "      <td>[[1431, 2], [3, 8564]]</td>\n",
       "      <td>0.9995</td>\n",
       "      <td>0.999</td>\n",
       "    </tr>\n",
       "    <tr>\n",
       "      <th>15</th>\n",
       "      <td>750</td>\n",
       "      <td>5</td>\n",
       "      <td>[[1303, 130], [1, 8566]]</td>\n",
       "      <td>0.9869</td>\n",
       "      <td>0.954</td>\n",
       "    </tr>\n",
       "    <tr>\n",
       "      <th>16</th>\n",
       "      <td>750</td>\n",
       "      <td>10</td>\n",
       "      <td>[[1423, 10], [1, 8566]]</td>\n",
       "      <td>0.9989</td>\n",
       "      <td>0.996</td>\n",
       "    </tr>\n",
       "    <tr>\n",
       "      <th>17</th>\n",
       "      <td>750</td>\n",
       "      <td>15</td>\n",
       "      <td>[[1430, 3], [3, 8564]]</td>\n",
       "      <td>0.9994</td>\n",
       "      <td>0.999</td>\n",
       "    </tr>\n",
       "    <tr>\n",
       "      <th>18</th>\n",
       "      <td>750</td>\n",
       "      <td>20</td>\n",
       "      <td>[[1431, 2], [4, 8563]]</td>\n",
       "      <td>0.9994</td>\n",
       "      <td>0.999</td>\n",
       "    </tr>\n",
       "    <tr>\n",
       "      <th>19</th>\n",
       "      <td>750</td>\n",
       "      <td>25</td>\n",
       "      <td>[[1432, 1], [4, 8563]]</td>\n",
       "      <td>0.9995</td>\n",
       "      <td>0.999</td>\n",
       "    </tr>\n",
       "  </tbody>\n",
       "</table>\n",
       "</div>"
      ],
      "text/plain": [
       "   n-estimator max_depth          Confusion Matrix  Accuracy  G-Mean\n",
       "0           20         5  [[1322, 111], [1, 8566]]    0.9888   0.960\n",
       "1           20        10   [[1423, 10], [3, 8564]]    0.9987   0.996\n",
       "2           20        15    [[1426, 7], [8, 8559]]    0.9985   0.997\n",
       "3           20        20    [[1429, 4], [5, 8562]]    0.9991   0.998\n",
       "4           20        25    [[1428, 5], [5, 8562]]    0.9990   0.998\n",
       "5           50         5  [[1317, 116], [1, 8566]]    0.9883   0.959\n",
       "6           50        10   [[1423, 10], [3, 8564]]    0.9987   0.996\n",
       "7           50        15    [[1430, 3], [5, 8562]]    0.9992   0.999\n",
       "8           50        20    [[1428, 5], [5, 8562]]    0.9990   0.998\n",
       "9           50        25    [[1430, 3], [5, 8562]]    0.9992   0.999\n",
       "10         300         5  [[1303, 130], [1, 8566]]    0.9869   0.954\n",
       "11         300        10   [[1422, 11], [1, 8566]]    0.9988   0.996\n",
       "12         300        15    [[1430, 3], [4, 8563]]    0.9993   0.999\n",
       "13         300        20    [[1432, 1], [3, 8564]]    0.9996   0.999\n",
       "14         300        25    [[1431, 2], [3, 8564]]    0.9995   0.999\n",
       "15         750         5  [[1303, 130], [1, 8566]]    0.9869   0.954\n",
       "16         750        10   [[1423, 10], [1, 8566]]    0.9989   0.996\n",
       "17         750        15    [[1430, 3], [3, 8564]]    0.9994   0.999\n",
       "18         750        20    [[1431, 2], [4, 8563]]    0.9994   0.999\n",
       "19         750        25    [[1432, 1], [4, 8563]]    0.9995   0.999"
      ]
     },
     "execution_count": 140,
     "metadata": {},
     "output_type": "execute_result"
    }
   ],
   "source": [
    "rf_optim_df"
   ]
  },
  {
   "cell_type": "code",
   "execution_count": 141,
   "id": "4787387d",
   "metadata": {},
   "outputs": [
    {
     "data": {
      "image/png": "[encoded data removed]",
      "text/plain": [
       "<Figure size 1296x288 with 5 Axes>"
      ]
     },
     "metadata": {
      "needs_background": "light"
     },
     "output_type": "display_data"
    }
   ],
   "source": [
    "fig, axs = plt.subplots(figsize=(18, 4),ncols=5)\n",
    "j=0\n",
    "for i in max_depth_list:\n",
    "    rf_optim_df[rf_optim_df.max_depth==i].plot(x='n-estimator', y=['G-Mean','Accuracy'],ax=axs[j])\n",
    "    axs[j].set_title(f'max-depth ={i}')\n",
    "    fig.tight_layout()\n",
    "    j+=1\n",
    "    \n",
    "plt.show()\n",
    "\n"
   ]
  },
  {
   "cell_type": "code",
   "execution_count": 142,
   "id": "4787387d",
   "metadata": {},
   "outputs": [
    {
     "data": {
      "image/png": "[encoded data removed]",
      "text/plain": [
       "<Figure size 1296x288 with 4 Axes>"
      ]
     },
     "metadata": {
      "needs_background": "light"
     },
     "output_type": "display_data"
    }
   ],
   "source": [
    "fig2, axs2 = plt.subplots(figsize=(18, 4),ncols=4)\n",
    "j=0\n",
    "for i in n_estimator_list:\n",
    "    rf_optim_df[rf_optim_df['n-estimator']==i].plot(x='max_depth', y=['G-Mean','Accuracy'],ax=axs2[j])\n",
    "    axs2[j].set_title(f'n-estimator ={i}')\n",
    "    fig2.tight_layout()\n",
    "    j+=1\n",
    "    \n",
    "plt.show()\n",
    "\n"
   ]
  },
  {
   "cell_type": "markdown",
   "id": "cd50e568",
   "metadata": {},
   "source": [
    "Es pot concloure que els paràmetres obtims per al random Forest serien un n-estimator= 300 amb una max_depth=20. El canvi ha estat molt gran respecte la dada inicial que partia d'un n_estimator molt baix."
   ]
  },
  {
   "cell_type": "markdown",
   "id": "bde5892c",
   "metadata": {},
   "source": [
    "\n",
    "**- Exercici 4:** Compara el seu rendiment utilitzant l’aproximació traint/test o cross-validation.\n",
    "\n"
   ]
  },
  {
   "cell_type": "code",
   "execution_count": null,
   "id": "77c7e1e1",
   "metadata": {},
   "outputs": [],
   "source": []
  },
  {
   "cell_type": "markdown",
   "id": "8496cfc3",
   "metadata": {},
   "source": [
    "## Nivell 2"
   ]
  },
  {
   "cell_type": "markdown",
   "id": "2e462d0b",
   "metadata": {},
   "source": [
    "**- Exercici 5:** Realitza algun procés d’enginyeria de variables per millorar-ne la predicció\n"
   ]
  },
  {
   "cell_type": "code",
   "execution_count": null,
   "id": "09671843",
   "metadata": {},
   "outputs": [],
   "source": []
  },
  {
   "cell_type": "code",
   "execution_count": null,
   "id": "0fa9f646",
   "metadata": {},
   "outputs": [],
   "source": []
  },
  {
   "cell_type": "markdown",
   "id": "b68e6fbb",
   "metadata": {},
   "source": [
    "## Nivell 3"
   ]
  },
  {
   "cell_type": "markdown",
   "id": "2adaa38b",
   "metadata": {},
   "source": [
    "**- Exercici 6:** No utilitzis la variable DepDelay a l’hora de fer prediccions\n"
   ]
  },
  {
   "cell_type": "code",
   "execution_count": null,
   "id": "ff88a1dc",
   "metadata": {},
   "outputs": [],
   "source": []
  },
  {
   "cell_type": "code",
   "execution_count": null,
   "id": "5bf78803",
   "metadata": {},
   "outputs": [],
   "source": []
  },
  {
   "cell_type": "code",
   "execution_count": null,
   "id": "6e92e5b8",
   "metadata": {},
   "outputs": [],
   "source": []
  }
 ],
 "metadata": {
  "kernelspec": {
   "display_name": "Python 3 (ipykernel)",
   "language": "python",
   "name": "python3"
  },
  "language_info": {
   "codemirror_mode": {
    "name": "ipython",
    "version": 3
   },
   "file_extension": ".py",
   "mimetype": "text/x-python",
   "name": "python",
   "nbconvert_exporter": "python",
   "pygments_lexer": "ipython3",
   "version": "3.7.12"
  }
 },
 "nbformat": 4,
 "nbformat_minor": 5
}
